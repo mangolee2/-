{
 "cells": [
  {
   "cell_type": "code",
   "execution_count": 1,
   "metadata": {},
   "outputs": [],
   "source": [
    "from sklearn.datasets import make_blobs\n",
    "from sklearn.cluster import KMeans\n",
    "from sklearn.metrics import silhouette_samples, silhouette_score\n",
    "from sklearn.decomposition import PCA\n",
    "import matplotlib.pyplot as plt\n",
    "import numpy as np"
   ]
  },
  {
   "cell_type": "code",
   "execution_count": 2,
   "metadata": {},
   "outputs": [],
   "source": [
    "# 데이터셋 생성\n",
    "X, y = make_blobs(n_samples=500, centers=4, random_state=42, cluster_std=1.5)\n"
   ]
  },
  {
   "cell_type": "code",
   "execution_count": 3,
   "metadata": {},
   "outputs": [],
   "source": [
    "# 모델 초기화\n",
    "fuzzy_kmeans = KMeans(n_clusters=4, init='k-means++', max_iter=100, n_init=10)"
   ]
  },
  {
   "cell_type": "code",
   "execution_count": 4,
   "metadata": {},
   "outputs": [
    {
     "data": {
      "text/plain": [
       "KMeans(max_iter=100, n_clusters=4)"
      ]
     },
     "execution_count": 4,
     "metadata": {},
     "output_type": "execute_result"
    }
   ],
   "source": [
    "# 모델 학습\n",
    "fuzzy_kmeans.fit(X)"
   ]
  },
  {
   "cell_type": "code",
   "execution_count": 5,
   "metadata": {},
   "outputs": [
    {
     "name": "stdout",
     "output_type": "stream",
     "text": [
      "[[-8.64343131  7.55417397]\n",
      " [-7.06163376 -6.91663151]\n",
      " [ 4.76279743  1.89919856]\n",
      " [-2.65633217  9.08649366]]\n",
      "[0 1 2 3 1 1 3 1 2 1 2 3 2 3 1 2 3 0 0 3 2 3 2 0 0 1 1 0 0 3 1 3 3 3 1 1 2\n",
      " 2 0 0 1 2 3 3 3 2 2 2 1 0 1 3 0 1 2 3 3 0 1 0 0 3 1 0 2 1 1 0 2 1 2 1 1 0\n",
      " 3 0 3 1 2 3 1 2 1 3 0 0 0 0 2 3 0 1 2 1 2 0 3 2 3 0 2 2 2 0 0 3 3 0 3 0 1\n",
      " 0 0 0 0 1 2 0 1 1 3 2 1 2 0 2 2 1 1 0 0 2 2 1 2 0 0 0 2 2 1 0 2 2 1 0 0 3\n",
      " 3 3 1 1 2 2 3 0 3 0 1 1 0 0 2 2 1 3 2 1 0 0 1 3 3 0 0 3 3 1 1 1 3 0 3 3 0\n",
      " 0 3 2 3 1 1 0 0 1 3 1 3 3 0 1 3 3 1 0 2 0 1 2 2 0 0 1 0 3 3 1 3 0 3 2 2 3\n",
      " 0 3 2 3 3 1 1 2 1 2 3 1 0 1 3 1 2 2 2 1 3 2 0 0 2 3 3 1 3 3 3 3 2 2 0 3 1\n",
      " 2 3 3 0 3 1 1 2 3 2 1 3 3 2 0 3 3 3 2 0 1 3 2 2 3 1 3 2 0 2 1 1 3 3 2 0 2\n",
      " 0 2 1 2 1 0 2 2 3 2 1 1 2 2 1 0 2 2 2 1 0 2 2 2 0 2 2 0 0 0 1 0 0 0 0 0 3\n",
      " 0 2 0 3 3 0 2 2 2 3 3 1 3 1 3 2 1 1 2 1 0 0 1 0 3 1 3 2 3 1 1 0 2 1 2 2 0\n",
      " 3 1 2 1 0 2 0 2 0 0 1 0 3 1 0 1 3 1 0 1 0 2 3 3 1 1 2 3 3 3 2 0 1 3 2 2 1\n",
      " 0 1 1 1 3 2 1 3 2 3 3 2 3 2 3 0 1 2 3 1 0 3 2 2 1 1 1 0 1 2 3 3 0 0 2 0 2\n",
      " 3 1 1 1 3 2 2 0 3 1 1 1 2 1 3 2 0 2 1 2 3 2 3 2 1 3 0 0 3 3 0 0 3 1 2 1 2\n",
      " 3 0 0 3 1 0 0 2 0 0 3 0 1 3 0 3 1 1 2]\n"
     ]
    }
   ],
   "source": [
    "# 클러스터의 중심점과 라벨 출력\n",
    "print(fuzzy_kmeans.cluster_centers_)\n",
    "print(fuzzy_kmeans.labels_)\n"
   ]
  },
  {
   "cell_type": "code",
   "execution_count": 6,
   "metadata": {},
   "outputs": [
    {
     "data": {
      "image/png": "[encoded data removed]",
      "text/plain": [
       "<Figure size 432x288 with 1 Axes>"
      ]
     },
     "metadata": {
      "needs_background": "light"
     },
     "output_type": "display_data"
    }
   ],
   "source": [
    "# 클러스터 시각화\n",
    "colors = ['red', 'blue', 'green', 'purple']\n",
    "for i in range(len(X)):\n",
    "    plt.scatter(X[i][0], X[i][1], s=10, c=colors[fuzzy_kmeans.labels_[i]])\n",
    "plt.scatter(fuzzy_kmeans.cluster_centers_[:, 0], fuzzy_kmeans.cluster_centers_[:, 1], marker='*', s=150, c='#050505')\n",
    "plt.show()"
   ]
  },
  {
   "cell_type": "code",
   "execution_count": null,
   "metadata": {},
   "outputs": [],
   "source": []
  }
 ],
 "metadata": {
  "kernelspec": {
   "display_name": "base",
   "language": "python",
   "name": "python3"
  },
  "language_info": {
   "codemirror_mode": {
    "name": "ipython",
    "version": 3
   },
   "file_extension": ".py",
   "mimetype": "text/x-python",
   "name": "python",
   "nbconvert_exporter": "python",
   "pygments_lexer": "ipython3",
   "version": "3.8.8"
  },
  "orig_nbformat": 4
 },
 "nbformat": 4,
 "nbformat_minor": 2
}
