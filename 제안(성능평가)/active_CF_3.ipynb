{
 "cells": [
  {
   "cell_type": "code",
   "execution_count": 1,
   "metadata": {},
   "outputs": [],
   "source": [
    "import pandas as pd"
   ]
  },
  {
   "cell_type": "code",
   "execution_count": 2,
   "metadata": {},
   "outputs": [],
   "source": [
    "data = pd.read_csv('./cluster_1.csv')"
   ]
  },
  {
   "cell_type": "code",
   "execution_count": 3,
   "metadata": {},
   "outputs": [],
   "source": [
    "# Location Frequency, Activity, Main Activity Time 지표에 대한 가중치 설정\n",
    "weights = [0.4, 0.3, 0.3]"
   ]
  },
  {
   "cell_type": "code",
   "execution_count": 4,
   "metadata": {},
   "outputs": [],
   "source": [
    "# Rating 계산 함수\n",
    "def calculate_rating(row):\n",
    "    # 각 지표에 대한 가중치 적용\n",
    "    weighted_scores = row[['Location Frequency', 'Activity', 'Main Activity Time']] * weights\n",
    "    # 가중치 적용된 지표들의 합 계산\n",
    "    total_weighted_score = weighted_scores.sum()\n",
    "    # Rating 계산 (최대값 5로 제한)\n",
    "    rating = min(total_weighted_score * 5, 5)\n",
    "    return rating"
   ]
  },
  {
   "cell_type": "code",
   "execution_count": 5,
   "metadata": {},
   "outputs": [],
   "source": [
    "# 데이터에 Rating 열 추가\n",
    "data['Rating'] = data.apply(calculate_rating, axis=1)"
   ]
  },
  {
   "cell_type": "code",
   "execution_count": 6,
   "metadata": {},
   "outputs": [],
   "source": [
    "# 데이터 저장\n",
    "data.to_csv('data_with_rating.csv', index=False)"
   ]
  },
  {
   "attachments": {},
   "cell_type": "markdown",
   "metadata": {},
   "source": [
    "협업 필터링 적용"
   ]
  },
  {
   "cell_type": "code",
   "execution_count": 8,
   "metadata": {},
   "outputs": [],
   "source": [
    "import pandas as pd\n",
    "import numpy as np\n",
    "from sklearn.model_selection import train_test_split"
   ]
  },
  {
   "cell_type": "code",
   "execution_count": 21,
   "metadata": {},
   "outputs": [],
   "source": [
    "data.to_csv('data_with_rating.csv', index=False)"
   ]
  },
  {
   "cell_type": "code",
   "execution_count": 22,
   "metadata": {},
   "outputs": [],
   "source": [
    "# train set, test set 분리\n",
    "train_data, test_data = train_test_split(data, test_size=0.2, random_state=42)"
   ]
  },
  {
   "cell_type": "code",
   "execution_count": 23,
   "metadata": {},
   "outputs": [],
   "source": [
    "# train set으로 모델 학습\n",
    "user_venue_matrix = pd.pivot_table(train_data, values='Rating', index='User ID', columns='Venue ID', fill_value=0)\n",
    "user_similarity_matrix = np.corrcoef(user_venue_matrix)"
   ]
  },
  {
   "cell_type": "code",
   "execution_count": 24,
   "metadata": {},
   "outputs": [],
   "source": [
    "# 추천 대상 유저 설정 (여기서는 1번 유저)\n",
    "target_user_index = 0"
   ]
  },
  {
   "cell_type": "code",
   "execution_count": 25,
   "metadata": {},
   "outputs": [],
   "source": [
    "# 추천 대상 유저와 유사한 다른 유저 인덱스 구하기\n",
    "similar_user_indexes = np.argsort(user_similarity_matrix[target_user_index])[::-1][1:]\n"
   ]
  },
  {
   "cell_type": "code",
   "execution_count": 26,
   "metadata": {},
   "outputs": [],
   "source": [
    "# 추천 대상 유저와 유사한 다른 유저들의 장소 평점 평균 구하기\n",
    "similar_user_venue_mean = np.mean(user_venue_matrix.iloc[similar_user_indexes], axis=0)\n"
   ]
  },
  {
   "cell_type": "code",
   "execution_count": 27,
   "metadata": {},
   "outputs": [],
   "source": [
    "# 추천 대상 유저가 아직 방문하지 않은 장소 추출\n",
    "unseen_venues = user_venue_matrix.iloc[target_user_index][user_venue_matrix.iloc[target_user_index] == 0].index\n"
   ]
  },
  {
   "cell_type": "code",
   "execution_count": 28,
   "metadata": {},
   "outputs": [],
   "source": [
    "# 추천 대상 유저가 아직 방문하지 않은 장소들 중, 유사한 다른 유저들이 높게 평가한 장소 추천\n",
    "recommendation = similar_user_venue_mean[unseen_venues].sort_values(ascending=False)[:3]\n"
   ]
  },
  {
   "cell_type": "code",
   "execution_count": 29,
   "metadata": {},
   "outputs": [],
   "source": [
    "# test set에서 실제값 가져오기\n",
    "actual_ratings = test_data[test_data['User ID'] == target_user_index]['Rating'].tolist()\n"
   ]
  },
  {
   "cell_type": "code",
   "execution_count": 30,
   "metadata": {},
   "outputs": [],
   "source": [
    "# 추천 결과와 실제값 비교하여 성능평가\n",
    "tp = len(set(recommendation).intersection(set(actual_ratings)))\n",
    "fp = len(set(recommendation)) - tp\n",
    "fn = len(set(actual_ratings)) - tp\n",
    "\n",
    "if tp + fp == 0:\n",
    "    precision = 0\n",
    "else:\n",
    "    precision = tp / (tp + fp)\n",
    "\n",
    "if tp + fn == 0:\n",
    "    recall = 0\n",
    "else:\n",
    "    recall = tp / (tp + fn)\n",
    "\n",
    "if precision + recall == 0:\n",
    "    f1 = 0\n",
    "else:\n",
    "    f1 = 2 * (precision * recall) / (precision + recall)\n"
   ]
  },
  {
   "cell_type": "code",
   "execution_count": 31,
   "metadata": {},
   "outputs": [
    {
     "name": "stdout",
     "output_type": "stream",
     "text": [
      "Precision: 0.0\n",
      "Recall: 0\n",
      "F1-score: 0\n"
     ]
    }
   ],
   "source": [
    "print(\"Precision:\", precision)\n",
    "print(\"Recall:\", recall)\n",
    "print(\"F1-score:\", f1)"
   ]
  },
  {
   "cell_type": "code",
   "execution_count": null,
   "metadata": {},
   "outputs": [],
   "source": []
  },
  {
   "attachments": {},
   "cell_type": "markdown",
   "metadata": {},
   "source": [
    "^^\n"
   ]
  },
  {
   "cell_type": "code",
   "execution_count": 20,
   "metadata": {},
   "outputs": [],
   "source": [
    "import pandas as pd\n"
   ]
  },
  {
   "cell_type": "code",
   "execution_count": null,
   "metadata": {},
   "outputs": [],
   "source": []
  }
 ],
 "metadata": {
  "kernelspec": {
   "display_name": "base",
   "language": "python",
   "name": "python3"
  },
  "language_info": {
   "codemirror_mode": {
    "name": "ipython",
    "version": 3
   },
   "file_extension": ".py",
   "mimetype": "text/x-python",
   "name": "python",
   "nbconvert_exporter": "python",
   "pygments_lexer": "ipython3",
   "version": "3.8.8"
  },
  "orig_nbformat": 4
 },
 "nbformat": 4,
 "nbformat_minor": 2
}
