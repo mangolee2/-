{
 "cells": [
  {
   "cell_type": "code",
   "execution_count": 2,
   "metadata": {},
   "outputs": [],
   "source": [
    "import pandas as pd\n",
    "import numpy as np\n",
    "import os"
   ]
  },
  {
   "cell_type": "code",
   "execution_count": 3,
   "metadata": {},
   "outputs": [],
   "source": [
    "df = pd.read_csv(\"./data_rating.csv\", encoding='cp949')"
   ]
  },
  {
   "cell_type": "code",
   "execution_count": 4,
   "metadata": {},
   "outputs": [],
   "source": [
    "dataset=df.dropna(axis=0)"
   ]
  },
  {
   "cell_type": "code",
   "execution_count": 5,
   "metadata": {},
   "outputs": [
    {
     "data": {
      "text/html": [
       "<div>\n",
       "<style scoped>\n",
       "    .dataframe tbody tr th:only-of-type {\n",
       "        vertical-align: middle;\n",
       "    }\n",
       "\n",
       "    .dataframe tbody tr th {\n",
       "        vertical-align: top;\n",
       "    }\n",
       "\n",
       "    .dataframe thead th {\n",
       "        text-align: right;\n",
       "    }\n",
       "</style>\n",
       "<table border=\"1\" class=\"dataframe\">\n",
       "  <thead>\n",
       "    <tr style=\"text-align: right;\">\n",
       "      <th></th>\n",
       "      <th>User ID2</th>\n",
       "      <th>User ID3</th>\n",
       "      <th>Location Frequency</th>\n",
       "      <th>Activity</th>\n",
       "      <th>Main Activity Time</th>\n",
       "      <th>Cluster</th>\n",
       "      <th>User ID</th>\n",
       "      <th>Venue ID</th>\n",
       "      <th>Venue category ID</th>\n",
       "      <th>Venue category name</th>\n",
       "      <th>Latitude</th>\n",
       "      <th>Longitude</th>\n",
       "      <th>Timezone offset in minutes</th>\n",
       "      <th>UTC time</th>\n",
       "      <th>Rating</th>\n",
       "    </tr>\n",
       "  </thead>\n",
       "  <tbody>\n",
       "    <tr>\n",
       "      <th>0</th>\n",
       "      <td>0</td>\n",
       "      <td>1</td>\n",
       "      <td>0</td>\n",
       "      <td>0</td>\n",
       "      <td>22</td>\n",
       "      <td>1</td>\n",
       "      <td>2454</td>\n",
       "      <td>4abc1f51f964a520798620e3</td>\n",
       "      <td>4bf58dd8d48988d1ce941735</td>\n",
       "      <td>Seafood Restaurant</td>\n",
       "      <td>40.781558</td>\n",
       "      <td>-73.975792</td>\n",
       "      <td>-240</td>\n",
       "      <td>Wed Apr 04 23:31:31 +0000 2012</td>\n",
       "      <td>0.0</td>\n",
       "    </tr>\n",
       "    <tr>\n",
       "      <th>1</th>\n",
       "      <td>1</td>\n",
       "      <td>1</td>\n",
       "      <td>0</td>\n",
       "      <td>0</td>\n",
       "      <td>22</td>\n",
       "      <td>1</td>\n",
       "      <td>3660</td>\n",
       "      <td>4d4ac10da0ef54814b6ffff6</td>\n",
       "      <td>4bf58dd8d48988d157941735</td>\n",
       "      <td>American Restaurant</td>\n",
       "      <td>40.784018</td>\n",
       "      <td>-73.974524</td>\n",
       "      <td>-240</td>\n",
       "      <td>Sat Apr 07 17:42:24 +0000 2012</td>\n",
       "      <td>0.0</td>\n",
       "    </tr>\n",
       "    <tr>\n",
       "      <th>2</th>\n",
       "      <td>2</td>\n",
       "      <td>1</td>\n",
       "      <td>0</td>\n",
       "      <td>0</td>\n",
       "      <td>22</td>\n",
       "      <td>1</td>\n",
       "      <td>5603</td>\n",
       "      <td>4db44994cda1c57c82583709</td>\n",
       "      <td>4bf58dd8d48988d1f1931735</td>\n",
       "      <td>General Entertainment</td>\n",
       "      <td>40.739398</td>\n",
       "      <td>-73.993210</td>\n",
       "      <td>-240</td>\n",
       "      <td>Sun Apr 08 18:20:29 +0000 2012</td>\n",
       "      <td>0.0</td>\n",
       "    </tr>\n",
       "    <tr>\n",
       "      <th>3</th>\n",
       "      <td>3</td>\n",
       "      <td>1</td>\n",
       "      <td>0</td>\n",
       "      <td>0</td>\n",
       "      <td>22</td>\n",
       "      <td>1</td>\n",
       "      <td>5783</td>\n",
       "      <td>4a541923f964a52008b31fe3</td>\n",
       "      <td>4bf58dd8d48988d14e941735</td>\n",
       "      <td>American Restaurant</td>\n",
       "      <td>40.785677</td>\n",
       "      <td>-73.976498</td>\n",
       "      <td>-240</td>\n",
       "      <td>Sun Apr 08 20:02:10 +0000 2012</td>\n",
       "      <td>0.0</td>\n",
       "    </tr>\n",
       "    <tr>\n",
       "      <th>4</th>\n",
       "      <td>4</td>\n",
       "      <td>1</td>\n",
       "      <td>0</td>\n",
       "      <td>0</td>\n",
       "      <td>22</td>\n",
       "      <td>1</td>\n",
       "      <td>6696</td>\n",
       "      <td>40f1d480f964a5205b0a1fe3</td>\n",
       "      <td>4bf58dd8d48988d143941735</td>\n",
       "      <td>Breakfast Spot</td>\n",
       "      <td>40.719929</td>\n",
       "      <td>-74.008532</td>\n",
       "      <td>-240</td>\n",
       "      <td>Mon Apr 09 16:20:52 +0000 2012</td>\n",
       "      <td>0.0</td>\n",
       "    </tr>\n",
       "    <tr>\n",
       "      <th>...</th>\n",
       "      <td>...</td>\n",
       "      <td>...</td>\n",
       "      <td>...</td>\n",
       "      <td>...</td>\n",
       "      <td>...</td>\n",
       "      <td>...</td>\n",
       "      <td>...</td>\n",
       "      <td>...</td>\n",
       "      <td>...</td>\n",
       "      <td>...</td>\n",
       "      <td>...</td>\n",
       "      <td>...</td>\n",
       "      <td>...</td>\n",
       "      <td>...</td>\n",
       "      <td>...</td>\n",
       "    </tr>\n",
       "    <tr>\n",
       "      <th>3004</th>\n",
       "      <td>10601</td>\n",
       "      <td>185</td>\n",
       "      <td>290</td>\n",
       "      <td>165</td>\n",
       "      <td>21</td>\n",
       "      <td>1</td>\n",
       "      <td>64875</td>\n",
       "      <td>4d8f74cf1716a143e3ed4af7</td>\n",
       "      <td>4bf58dd8d48988d163941735</td>\n",
       "      <td>Park</td>\n",
       "      <td>40.965417</td>\n",
       "      <td>-74.062920</td>\n",
       "      <td>-240</td>\n",
       "      <td>Sun May 13 17:12:58 +0000 2012</td>\n",
       "      <td>1.0</td>\n",
       "    </tr>\n",
       "    <tr>\n",
       "      <th>3005</th>\n",
       "      <td>10602</td>\n",
       "      <td>185</td>\n",
       "      <td>290</td>\n",
       "      <td>165</td>\n",
       "      <td>21</td>\n",
       "      <td>1</td>\n",
       "      <td>64946</td>\n",
       "      <td>4cf526178333224b089d1e8e</td>\n",
       "      <td>4bf58dd8d48988d1e5931735</td>\n",
       "      <td>Music Venue</td>\n",
       "      <td>40.965322</td>\n",
       "      <td>-74.062803</td>\n",
       "      <td>-240</td>\n",
       "      <td>Sun May 13 17:43:59 +0000 2012</td>\n",
       "      <td>1.0</td>\n",
       "    </tr>\n",
       "    <tr>\n",
       "      <th>3006</th>\n",
       "      <td>10603</td>\n",
       "      <td>185</td>\n",
       "      <td>290</td>\n",
       "      <td>165</td>\n",
       "      <td>21</td>\n",
       "      <td>1</td>\n",
       "      <td>65035</td>\n",
       "      <td>4ef6571c722e34060e72b97f</td>\n",
       "      <td>4bf58dd8d48988d14e941735</td>\n",
       "      <td>American Restaurant</td>\n",
       "      <td>40.965329</td>\n",
       "      <td>-74.062924</td>\n",
       "      <td>-240</td>\n",
       "      <td>Sun May 13 18:22:58 +0000 2012</td>\n",
       "      <td>1.0</td>\n",
       "    </tr>\n",
       "    <tr>\n",
       "      <th>3007</th>\n",
       "      <td>10604</td>\n",
       "      <td>185</td>\n",
       "      <td>290</td>\n",
       "      <td>165</td>\n",
       "      <td>21</td>\n",
       "      <td>1</td>\n",
       "      <td>65183</td>\n",
       "      <td>4bd7282e5631c9b6e315a730</td>\n",
       "      <td>4bf58dd8d48988d124941735</td>\n",
       "      <td>Office</td>\n",
       "      <td>40.964622</td>\n",
       "      <td>-74.067857</td>\n",
       "      <td>-240</td>\n",
       "      <td>Sun May 13 19:33:08 +0000 2012</td>\n",
       "      <td>1.0</td>\n",
       "    </tr>\n",
       "    <tr>\n",
       "      <th>3008</th>\n",
       "      <td>10605</td>\n",
       "      <td>185</td>\n",
       "      <td>290</td>\n",
       "      <td>165</td>\n",
       "      <td>21</td>\n",
       "      <td>1</td>\n",
       "      <td>65413</td>\n",
       "      <td>4bb90257314e9521b509499d</td>\n",
       "      <td>4bf58dd8d48988d13b941735</td>\n",
       "      <td>School</td>\n",
       "      <td>40.965810</td>\n",
       "      <td>-74.067606</td>\n",
       "      <td>-240</td>\n",
       "      <td>Sun May 13 21:35:20 +0000 2012</td>\n",
       "      <td>1.0</td>\n",
       "    </tr>\n",
       "  </tbody>\n",
       "</table>\n",
       "<p>3009 rows × 15 columns</p>\n",
       "</div>"
      ],
      "text/plain": [
       "      User ID2  User ID3  Location Frequency  Activity  Main Activity Time  \\\n",
       "0            0         1                   0         0                  22   \n",
       "1            1         1                   0         0                  22   \n",
       "2            2         1                   0         0                  22   \n",
       "3            3         1                   0         0                  22   \n",
       "4            4         1                   0         0                  22   \n",
       "...        ...       ...                 ...       ...                 ...   \n",
       "3004     10601       185                 290       165                  21   \n",
       "3005     10602       185                 290       165                  21   \n",
       "3006     10603       185                 290       165                  21   \n",
       "3007     10604       185                 290       165                  21   \n",
       "3008     10605       185                 290       165                  21   \n",
       "\n",
       "      Cluster  User ID                  Venue ID         Venue category ID  \\\n",
       "0           1     2454  4abc1f51f964a520798620e3  4bf58dd8d48988d1ce941735   \n",
       "1           1     3660  4d4ac10da0ef54814b6ffff6  4bf58dd8d48988d157941735   \n",
       "2           1     5603  4db44994cda1c57c82583709  4bf58dd8d48988d1f1931735   \n",
       "3           1     5783  4a541923f964a52008b31fe3  4bf58dd8d48988d14e941735   \n",
       "4           1     6696  40f1d480f964a5205b0a1fe3  4bf58dd8d48988d143941735   \n",
       "...       ...      ...                       ...                       ...   \n",
       "3004        1    64875  4d8f74cf1716a143e3ed4af7  4bf58dd8d48988d163941735   \n",
       "3005        1    64946  4cf526178333224b089d1e8e  4bf58dd8d48988d1e5931735   \n",
       "3006        1    65035  4ef6571c722e34060e72b97f  4bf58dd8d48988d14e941735   \n",
       "3007        1    65183  4bd7282e5631c9b6e315a730  4bf58dd8d48988d124941735   \n",
       "3008        1    65413  4bb90257314e9521b509499d  4bf58dd8d48988d13b941735   \n",
       "\n",
       "        Venue category name   Latitude  Longitude  Timezone offset in minutes  \\\n",
       "0        Seafood Restaurant  40.781558 -73.975792                        -240   \n",
       "1       American Restaurant  40.784018 -73.974524                        -240   \n",
       "2     General Entertainment  40.739398 -73.993210                        -240   \n",
       "3       American Restaurant  40.785677 -73.976498                        -240   \n",
       "4            Breakfast Spot  40.719929 -74.008532                        -240   \n",
       "...                     ...        ...        ...                         ...   \n",
       "3004                   Park  40.965417 -74.062920                        -240   \n",
       "3005            Music Venue  40.965322 -74.062803                        -240   \n",
       "3006    American Restaurant  40.965329 -74.062924                        -240   \n",
       "3007                 Office  40.964622 -74.067857                        -240   \n",
       "3008                 School  40.965810 -74.067606                        -240   \n",
       "\n",
       "                            UTC time  Rating  \n",
       "0     Wed Apr 04 23:31:31 +0000 2012     0.0  \n",
       "1     Sat Apr 07 17:42:24 +0000 2012     0.0  \n",
       "2     Sun Apr 08 18:20:29 +0000 2012     0.0  \n",
       "3     Sun Apr 08 20:02:10 +0000 2012     0.0  \n",
       "4     Mon Apr 09 16:20:52 +0000 2012     0.0  \n",
       "...                              ...     ...  \n",
       "3004  Sun May 13 17:12:58 +0000 2012     1.0  \n",
       "3005  Sun May 13 17:43:59 +0000 2012     1.0  \n",
       "3006  Sun May 13 18:22:58 +0000 2012     1.0  \n",
       "3007  Sun May 13 19:33:08 +0000 2012     1.0  \n",
       "3008  Sun May 13 21:35:20 +0000 2012     1.0  \n",
       "\n",
       "[3009 rows x 15 columns]"
      ]
     },
     "execution_count": 5,
     "metadata": {},
     "output_type": "execute_result"
    }
   ],
   "source": [
    "dataset"
   ]
  },
  {
   "cell_type": "code",
   "execution_count": 6,
   "metadata": {},
   "outputs": [],
   "source": [
    "# 파일 생성\n",
    "dataset.to_csv('./active_cf.csv')"
   ]
  },
  {
   "attachments": {},
   "cell_type": "markdown",
   "metadata": {},
   "source": [
    "평점 부여"
   ]
  },
  {
   "cell_type": "code",
   "execution_count": 7,
   "metadata": {},
   "outputs": [],
   "source": [
    "# import pandas as pd"
   ]
  },
  {
   "cell_type": "code",
   "execution_count": 8,
   "metadata": {},
   "outputs": [],
   "source": [
    "# 데이터셋 파일 경로\n",
    "# file_path = 'C:/Users/seohe/OneDrive/바탕 화면/thesis/dataset_cf.csv'"
   ]
  },
  {
   "cell_type": "code",
   "execution_count": 9,
   "metadata": {},
   "outputs": [],
   "source": [
    "# 데이터셋 로드\n",
    "# data = pd.read_csv(file_path)"
   ]
  },
  {
   "cell_type": "code",
   "execution_count": 10,
   "metadata": {},
   "outputs": [],
   "source": [
    "# # 각 장소의 방문 횟수를 계산하여 인기도 기반 평점 부여\n",
    "# venue_count = data['Venue ID'].value_counts()\n",
    "# venue_count_dict = venue_count.to_dict()\n",
    "# data['rating'] = data['Venue ID'].apply(lambda x: venue_count_dict[x])\n",
    "# data.to_csv('C:/Users/seohe/OneDrive/바탕 화면/thesis/dataset_cf.csv', index=True)"
   ]
  },
  {
   "cell_type": "code",
   "execution_count": 11,
   "metadata": {},
   "outputs": [],
   "source": [
    "# Surprise 데이터셋으로 변환\n",
    "from surprise import Dataset\n",
    "from surprise import Reader"
   ]
  },
  {
   "cell_type": "code",
   "execution_count": 12,
   "metadata": {},
   "outputs": [],
   "source": [
    "reader = Reader(line_format='user item rating timestamp', sep=',', rating_scale=(1, 5))\n",
    "data = Dataset.load_from_df(dataset[['User ID', 'Venue ID', 'Rating']], reader=reader)"
   ]
  },
  {
   "attachments": {},
   "cell_type": "markdown",
   "metadata": {},
   "source": [
    "샘플링 -> 협업필터링 구현"
   ]
  },
  {
   "cell_type": "code",
   "execution_count": 13,
   "metadata": {},
   "outputs": [],
   "source": [
    "from surprise import SVD\n",
    "from surprise import Dataset\n",
    "from surprise import Reader\n",
    "from surprise.model_selection import train_test_split\n",
    "from surprise import accuracy\n",
    "import pandas as pd"
   ]
  },
  {
   "cell_type": "code",
   "execution_count": 14,
   "metadata": {},
   "outputs": [],
   "source": [
    "# 데이터 로드\n",
    "df = pd.read_csv('./active_cf.csv')"
   ]
  },
  {
   "cell_type": "code",
   "execution_count": 15,
   "metadata": {},
   "outputs": [],
   "source": [
    "# 데이터 형식 지정\n",
    "reader = Reader(rating_scale=(1, 5))"
   ]
  },
  {
   "cell_type": "code",
   "execution_count": 16,
   "metadata": {},
   "outputs": [],
   "source": [
    "# 데이터프레임을 데이터셋으로 변환\n",
    "data = Dataset.load_from_df(df[['User ID', 'Venue ID', 'Rating']], reader)"
   ]
  },
  {
   "cell_type": "code",
   "execution_count": 17,
   "metadata": {},
   "outputs": [],
   "source": [
    "# 학습용 데이터와 테스트용 데이터로 분할\n",
    "trainset, testset = train_test_split(data, test_size=0.2, random_state=42)"
   ]
  },
  {
   "cell_type": "code",
   "execution_count": 18,
   "metadata": {},
   "outputs": [
    {
     "data": {
      "text/plain": [
       "<surprise.prediction_algorithms.matrix_factorization.SVD at 0x1a84d9d47f0>"
      ]
     },
     "execution_count": 18,
     "metadata": {},
     "output_type": "execute_result"
    }
   ],
   "source": [
    "# SVD 모델 학습\n",
    "model = SVD(n_factors=100, n_epochs=20, random_state=42)\n",
    "model.fit(trainset)"
   ]
  },
  {
   "cell_type": "code",
   "execution_count": 19,
   "metadata": {},
   "outputs": [
    {
     "name": "stdout",
     "output_type": "stream",
     "text": [
      "RMSE: 0.5692\n",
      "RMSE: 0.5692460493066992\n"
     ]
    }
   ],
   "source": [
    "# 테스트 데이터로 모델 평가\n",
    "predictions = model.test(testset)\n",
    "print('RMSE:', accuracy.rmse(predictions))"
   ]
  },
  {
   "cell_type": "code",
   "execution_count": 20,
   "metadata": {},
   "outputs": [
    {
     "name": "stdout",
     "output_type": "stream",
     "text": [
      "RMSE: 0.9347\n"
     ]
    },
    {
     "data": {
      "text/plain": [
       "0.9346820465297705"
      ]
     },
     "execution_count": 20,
     "metadata": {},
     "output_type": "execute_result"
    }
   ],
   "source": [
    "from surprise.model_selection import train_test_split\n",
    "from surprise import Dataset\n",
    "\n",
    "# 데이터셋 불러오기\n",
    "data = Dataset.load_builtin('ml-100k')\n",
    "\n",
    "# 랜덤 샘플링을 통해 학습셋과 검증셋 나누기\n",
    "trainset, testset = train_test_split(data, test_size=0.2, random_state=42)\n",
    "\n",
    "# 모델 학습 및 예측\n",
    "algo = SVD()\n",
    "algo.fit(trainset)\n",
    "predictions = algo.test(testset)\n",
    "\n",
    "# 평가\n",
    "accuracy.rmse(predictions)"
   ]
  },
  {
   "attachments": {},
   "cell_type": "markdown",
   "metadata": {},
   "source": [
    "정밀도, 재현율, f"
   ]
  },
  {
   "cell_type": "code",
   "execution_count": 21,
   "metadata": {},
   "outputs": [
    {
     "name": "stdout",
     "output_type": "stream",
     "text": [
      "Precision:  0.46750595873690015\n",
      "Recall:  0.41815\n",
      "F1-score:  0.3782788718945031\n"
     ]
    }
   ],
   "source": [
    "from surprise import accuracy\n",
    "from sklearn.metrics import precision_recall_fscore_support\n",
    "\n",
    "# 학습 데이터로 모델 학습\n",
    "model.fit(trainset)\n",
    "\n",
    "# 테스트 데이터로 모델 평가\n",
    "predictions = model.test(testset)\n",
    "\n",
    "# 예측값과 실제값을 리스트로 저장\n",
    "pred = []\n",
    "true = []\n",
    "for uid, iid, r_ui, est, _ in predictions:\n",
    "    pred.append(est)\n",
    "    true.append(r_ui)\n",
    "\n",
    "# NaN 값 제거\n",
    "pred = np.nan_to_num(pred)\n",
    "\n",
    "# 정밀도, 재현율, F1-score 계산\n",
    "precision, recall, f1_score, _ = precision_recall_fscore_support(true, np.around(pred), average='weighted')\n",
    "print(\"Precision: \", precision)\n",
    "print(\"Recall: \", recall)\n",
    "print(\"F1-score: \", f1_score)"
   ]
  },
  {
   "cell_type": "code",
   "execution_count": null,
   "metadata": {},
   "outputs": [],
   "source": []
  }
 ],
 "metadata": {
  "kernelspec": {
   "display_name": "base",
   "language": "python",
   "name": "python3"
  },
  "language_info": {
   "codemirror_mode": {
    "name": "ipython",
    "version": 3
   },
   "file_extension": ".py",
   "mimetype": "text/x-python",
   "name": "python",
   "nbconvert_exporter": "python",
   "pygments_lexer": "ipython3",
   "version": "3.8.8"
  },
  "orig_nbformat": 4
 },
 "nbformat": 4,
 "nbformat_minor": 2
}
