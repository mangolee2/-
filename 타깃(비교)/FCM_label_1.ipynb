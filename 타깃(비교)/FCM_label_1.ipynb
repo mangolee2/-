{
 "cells": [
  {
   "cell_type": "code",
   "execution_count": 2,
   "metadata": {},
   "outputs": [],
   "source": [
    "from sklearn.neighbors import BallTree\n",
    "from sklearn.neighbors import KDTree\n",
    "from sklearn.neighbors import KernelDensity\n",
    "import numpy as np\n",
    "import pandas as pd"
   ]
  },
  {
   "cell_type": "code",
   "execution_count": 4,
   "metadata": {},
   "outputs": [],
   "source": [
    "# Foursquare 데이터셋2 로드\n",
    "active_cluster = pd.read_csv('./dataset_cluster_1.csv')"
   ]
  },
  {
   "cell_type": "code",
   "execution_count": 5,
   "metadata": {},
   "outputs": [],
   "source": [
    "# 학습 데이터 생성\n",
    "train_data = np.array(active_cluster[['Latitude', 'Longitude']])\n",
    "kde = KernelDensity(bandwidth=0.01, metric='haversine', kernel='gaussian').fit(np.radians(train_data))"
   ]
  },
  {
   "cell_type": "code",
   "execution_count": 6,
   "metadata": {},
   "outputs": [],
   "source": [
    "# 타깃 유저 정보\n",
    "target_user_activity_frequency = 5\n",
    "target_user_poi_visits = 10\n",
    "target_user_primary_time = 13.0\n",
    "target_user_latitude = 40.748817\n",
    "target_user_longitude = -73.985428"
   ]
  },
  {
   "cell_type": "code",
   "execution_count": 7,
   "metadata": {},
   "outputs": [],
   "source": [
    "# 타깃 유저 score 계산\n",
    "target_user_score = kde.score_samples(np.radians(np.array([[target_user_latitude, target_user_longitude]])))[0]"
   ]
  },
  {
   "cell_type": "code",
   "execution_count": 8,
   "metadata": {},
   "outputs": [],
   "source": [
    "\n",
    "# 추천 POI 선택\n",
    "num_recommended_pois = 10\n",
    "tree = BallTree(np.radians(train_data), metric='haversine')\n",
    "dist, ind = tree.query(np.radians(np.array([[target_user_latitude, target_user_longitude]])), k=num_recommended_pois)\n",
    "recommended_pois = active_cluster.iloc[ind[0]][['Venue ID', 'Latitude', 'Longitude']]\n",
    "recommended_pois['score'] = np.exp(kde.score_samples(np.radians(recommended_pois[['Latitude', 'Longitude']])))\n"
   ]
  },
  {
   "cell_type": "code",
   "execution_count": 9,
   "metadata": {},
   "outputs": [
    {
     "name": "stdout",
     "output_type": "stream",
     "text": [
      "                       Venue ID   Latitude  Longitude        score\n",
      "22136  4be1ed6f87e42d7fe65a880b  40.748920 -73.985382  1568.462752\n",
      "64184  4be1ed6f87e42d7fe65a880b  40.748920 -73.985382  1568.462752\n",
      "24802  4f8f3871e4b0db47033f38b7  40.748970 -73.985330  1568.464805\n",
      "44970  4b1040cff964a520526c23e3  40.748581 -73.985410  1568.456552\n",
      "45021  4b1040cff964a520526c23e3  40.748581 -73.985410  1568.456552\n",
      "49565  4b1040cff964a520526c23e3  40.748581 -73.985410  1568.456552\n",
      "47292  4b1040cff964a520526c23e3  40.748581 -73.985410  1568.456552\n",
      "49446  4b1040cff964a520526c23e3  40.748581 -73.985410  1568.456552\n",
      "49994  4aa44e08f964a5204f4620e3  40.748485 -73.985041  1568.464002\n",
      "30717  4aa44e08f964a5204f4620e3  40.748485 -73.985041  1568.464002\n"
     ]
    }
   ],
   "source": [
    "print(recommended_pois)"
   ]
  },
  {
   "cell_type": "code",
   "execution_count": null,
   "metadata": {},
   "outputs": [],
   "source": []
  }
 ],
 "metadata": {
  "kernelspec": {
   "display_name": "base",
   "language": "python",
   "name": "python3"
  },
  "language_info": {
   "codemirror_mode": {
    "name": "ipython",
    "version": 3
   },
   "file_extension": ".py",
   "mimetype": "text/x-python",
   "name": "python",
   "nbconvert_exporter": "python",
   "pygments_lexer": "ipython3",
   "version": "3.8.8"
  },
  "orig_nbformat": 4
 },
 "nbformat": 4,
 "nbformat_minor": 2
}
