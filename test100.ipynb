{
 "cells": [
  {
   "cell_type": "code",
   "execution_count": 1,
   "metadata": {},
   "outputs": [],
   "source": [
    "import pandas as pd\n",
    "import numpy as np\n",
    "import os"
   ]
  },
  {
   "cell_type": "code",
   "execution_count": 3,
   "metadata": {},
   "outputs": [],
   "source": [
    "df = pd.read_csv(\"C:/Users/seohe/OneDrive/바탕 화면/Thesis/test.csv\", encoding='cp949')"
   ]
  },
  {
   "cell_type": "code",
   "execution_count": 8,
   "metadata": {},
   "outputs": [],
   "source": [
    "data100 = df[:101]"
   ]
  },
  {
   "cell_type": "code",
   "execution_count": 9,
   "metadata": {},
   "outputs": [],
   "source": [
    "data100=data100.dropna(axis=0)"
   ]
  },
  {
   "cell_type": "code",
   "execution_count": 10,
   "metadata": {},
   "outputs": [
    {
     "data": {
      "text/html": [
       "<div>\n",
       "<style scoped>\n",
       "    .dataframe tbody tr th:only-of-type {\n",
       "        vertical-align: middle;\n",
       "    }\n",
       "\n",
       "    .dataframe tbody tr th {\n",
       "        vertical-align: top;\n",
       "    }\n",
       "\n",
       "    .dataframe thead th {\n",
       "        text-align: right;\n",
       "    }\n",
       "</style>\n",
       "<table border=\"1\" class=\"dataframe\">\n",
       "  <thead>\n",
       "    <tr style=\"text-align: right;\">\n",
       "      <th></th>\n",
       "      <th>癤풳ser ID</th>\n",
       "      <th>Venue ID</th>\n",
       "      <th>Venue category ID</th>\n",
       "      <th>Venue category name</th>\n",
       "      <th>Latitude</th>\n",
       "      <th>Longitude</th>\n",
       "      <th>Timezone offset in minutes</th>\n",
       "      <th>UTC time</th>\n",
       "    </tr>\n",
       "  </thead>\n",
       "  <tbody>\n",
       "    <tr>\n",
       "      <th>0</th>\n",
       "      <td>470</td>\n",
       "      <td>49bbd6c0f964a520f4531fe3</td>\n",
       "      <td>4bf58dd8d48988d127951735</td>\n",
       "      <td>Arts &amp; Crafts Store</td>\n",
       "      <td>40.719810</td>\n",
       "      <td>-74.002581</td>\n",
       "      <td>-240</td>\n",
       "      <td>Tue Apr 03 18:00:09 +0000 2012</td>\n",
       "    </tr>\n",
       "    <tr>\n",
       "      <th>1</th>\n",
       "      <td>979</td>\n",
       "      <td>4a43c0aef964a520c6a61fe3</td>\n",
       "      <td>4bf58dd8d48988d1df941735</td>\n",
       "      <td>Bridge</td>\n",
       "      <td>40.606800</td>\n",
       "      <td>-74.044170</td>\n",
       "      <td>-240</td>\n",
       "      <td>Tue Apr 03 18:00:25 +0000 2012</td>\n",
       "    </tr>\n",
       "    <tr>\n",
       "      <th>2</th>\n",
       "      <td>69</td>\n",
       "      <td>4c5cc7b485a1e21e00d35711</td>\n",
       "      <td>4bf58dd8d48988d103941735</td>\n",
       "      <td>Home (private)</td>\n",
       "      <td>40.716162</td>\n",
       "      <td>-73.883070</td>\n",
       "      <td>-240</td>\n",
       "      <td>Tue Apr 03 18:02:24 +0000 2012</td>\n",
       "    </tr>\n",
       "    <tr>\n",
       "      <th>3</th>\n",
       "      <td>395</td>\n",
       "      <td>4bc7086715a7ef3bef9878da</td>\n",
       "      <td>4bf58dd8d48988d104941735</td>\n",
       "      <td>Medical Center</td>\n",
       "      <td>40.745164</td>\n",
       "      <td>-73.982519</td>\n",
       "      <td>-240</td>\n",
       "      <td>Tue Apr 03 18:02:41 +0000 2012</td>\n",
       "    </tr>\n",
       "    <tr>\n",
       "      <th>4</th>\n",
       "      <td>87</td>\n",
       "      <td>4cf2c5321d18a143951b5cec</td>\n",
       "      <td>4bf58dd8d48988d1cb941735</td>\n",
       "      <td>Food Truck</td>\n",
       "      <td>40.740104</td>\n",
       "      <td>-73.989658</td>\n",
       "      <td>-240</td>\n",
       "      <td>Tue Apr 03 18:03:00 +0000 2012</td>\n",
       "    </tr>\n",
       "    <tr>\n",
       "      <th>...</th>\n",
       "      <td>...</td>\n",
       "      <td>...</td>\n",
       "      <td>...</td>\n",
       "      <td>...</td>\n",
       "      <td>...</td>\n",
       "      <td>...</td>\n",
       "      <td>...</td>\n",
       "      <td>...</td>\n",
       "    </tr>\n",
       "    <tr>\n",
       "      <th>96</th>\n",
       "      <td>235</td>\n",
       "      <td>4a8ae51ef964a520c10a20e3</td>\n",
       "      <td>4bf58dd8d48988d1e0931735</td>\n",
       "      <td>Coffee Shop</td>\n",
       "      <td>40.745463</td>\n",
       "      <td>-73.990983</td>\n",
       "      <td>-240</td>\n",
       "      <td>Tue Apr 03 19:07:59 +0000 2012</td>\n",
       "    </tr>\n",
       "    <tr>\n",
       "      <th>97</th>\n",
       "      <td>118</td>\n",
       "      <td>4c72dbbf13228cfa0c362c65</td>\n",
       "      <td>4bf58dd8d48988d1fc941735</td>\n",
       "      <td>Laundry Service</td>\n",
       "      <td>40.600144</td>\n",
       "      <td>-73.946593</td>\n",
       "      <td>-240</td>\n",
       "      <td>Tue Apr 03 19:08:27 +0000 2012</td>\n",
       "    </tr>\n",
       "    <tr>\n",
       "      <th>98</th>\n",
       "      <td>1054</td>\n",
       "      <td>4e5590b5814d6ce5cc849483</td>\n",
       "      <td>4d954b06a243a5684965b473</td>\n",
       "      <td>Residential Building (Apartment / Condo)</td>\n",
       "      <td>40.870630</td>\n",
       "      <td>-74.097926</td>\n",
       "      <td>-240</td>\n",
       "      <td>Tue Apr 03 19:08:42 +0000 2012</td>\n",
       "    </tr>\n",
       "    <tr>\n",
       "      <th>99</th>\n",
       "      <td>881</td>\n",
       "      <td>4f4767e3e4b06a7740bdc8dd</td>\n",
       "      <td>4bf58dd8d48988d130941735</td>\n",
       "      <td>Building</td>\n",
       "      <td>40.808700</td>\n",
       "      <td>-73.958515</td>\n",
       "      <td>-240</td>\n",
       "      <td>Tue Apr 03 19:09:18 +0000 2012</td>\n",
       "    </tr>\n",
       "    <tr>\n",
       "      <th>100</th>\n",
       "      <td>713</td>\n",
       "      <td>45c76421f964a52066421fe3</td>\n",
       "      <td>4bf58dd8d48988d1e0931735</td>\n",
       "      <td>Coffee Shop</td>\n",
       "      <td>40.744045</td>\n",
       "      <td>-73.983737</td>\n",
       "      <td>-240</td>\n",
       "      <td>Tue Apr 03 19:09:49 +0000 2012</td>\n",
       "    </tr>\n",
       "  </tbody>\n",
       "</table>\n",
       "<p>100 rows × 8 columns</p>\n",
       "</div>"
      ],
      "text/plain": [
       "     癤풳ser ID                  Venue ID         Venue category ID  \\\n",
       "0         470  49bbd6c0f964a520f4531fe3  4bf58dd8d48988d127951735   \n",
       "1         979  4a43c0aef964a520c6a61fe3  4bf58dd8d48988d1df941735   \n",
       "2          69  4c5cc7b485a1e21e00d35711  4bf58dd8d48988d103941735   \n",
       "3         395  4bc7086715a7ef3bef9878da  4bf58dd8d48988d104941735   \n",
       "4          87  4cf2c5321d18a143951b5cec  4bf58dd8d48988d1cb941735   \n",
       "..        ...                       ...                       ...   \n",
       "96        235  4a8ae51ef964a520c10a20e3  4bf58dd8d48988d1e0931735   \n",
       "97        118  4c72dbbf13228cfa0c362c65  4bf58dd8d48988d1fc941735   \n",
       "98       1054  4e5590b5814d6ce5cc849483  4d954b06a243a5684965b473   \n",
       "99        881  4f4767e3e4b06a7740bdc8dd  4bf58dd8d48988d130941735   \n",
       "100       713  45c76421f964a52066421fe3  4bf58dd8d48988d1e0931735   \n",
       "\n",
       "                          Venue category name   Latitude  Longitude  \\\n",
       "0                         Arts & Crafts Store  40.719810 -74.002581   \n",
       "1                                      Bridge  40.606800 -74.044170   \n",
       "2                              Home (private)  40.716162 -73.883070   \n",
       "3                              Medical Center  40.745164 -73.982519   \n",
       "4                                  Food Truck  40.740104 -73.989658   \n",
       "..                                        ...        ...        ...   \n",
       "96                                Coffee Shop  40.745463 -73.990983   \n",
       "97                            Laundry Service  40.600144 -73.946593   \n",
       "98   Residential Building (Apartment / Condo)  40.870630 -74.097926   \n",
       "99                                   Building  40.808700 -73.958515   \n",
       "100                               Coffee Shop  40.744045 -73.983737   \n",
       "\n",
       "    Timezone offset in minutes                        UTC time  \n",
       "0                         -240  Tue Apr 03 18:00:09 +0000 2012  \n",
       "1                         -240  Tue Apr 03 18:00:25 +0000 2012  \n",
       "2                         -240  Tue Apr 03 18:02:24 +0000 2012  \n",
       "3                         -240  Tue Apr 03 18:02:41 +0000 2012  \n",
       "4                         -240  Tue Apr 03 18:03:00 +0000 2012  \n",
       "..                         ...                             ...  \n",
       "96                        -240  Tue Apr 03 19:07:59 +0000 2012  \n",
       "97                        -240  Tue Apr 03 19:08:27 +0000 2012  \n",
       "98                        -240  Tue Apr 03 19:08:42 +0000 2012  \n",
       "99                        -240  Tue Apr 03 19:09:18 +0000 2012  \n",
       "100                       -240  Tue Apr 03 19:09:49 +0000 2012  \n",
       "\n",
       "[100 rows x 8 columns]"
      ]
     },
     "execution_count": 10,
     "metadata": {},
     "output_type": "execute_result"
    }
   ],
   "source": [
    "data100"
   ]
  },
  {
   "cell_type": "code",
   "execution_count": 11,
   "metadata": {},
   "outputs": [],
   "source": [
    "data100.to_csv('./data100.csv')"
   ]
  },
  {
   "cell_type": "code",
   "execution_count": null,
   "metadata": {},
   "outputs": [],
   "source": []
  },
  {
   "attachments": {},
   "cell_type": "markdown",
   "metadata": {},
   "source": [
    "데이터셋 100개로 평점 임의 부여"
   ]
  },
  {
   "cell_type": "code",
   "execution_count": 12,
   "metadata": {},
   "outputs": [],
   "source": [
    "# 데이터 로드\n",
    "df = pd.read_csv('C:/Users/seohe/OneDrive/바탕 화면/thesis/data100.csv', sep='\\t', header=None, names=['user_id', 'venue_id', 'timestamp'])"
   ]
  },
  {
   "cell_type": "code",
   "execution_count": 13,
   "metadata": {},
   "outputs": [],
   "source": [
    "# 사용자별 방문한 장소 수 계산\n",
    "user_visit_counts = df.groupby('user_id')['venue_id'].nunique().reset_index()\n",
    "user_visit_counts.columns = ['user_id', 'visit_count']"
   ]
  },
  {
   "cell_type": "code",
   "execution_count": 18,
   "metadata": {},
   "outputs": [],
   "source": [
    "# 평점 생성\n",
    "max_visit_count = user_visit_counts['visit_count'].max()\n",
    "user_visit_counts['rating'] = user_visit_counts['visit_count'] / max_visit_count * 5"
   ]
  },
  {
   "cell_type": "code",
   "execution_count": 19,
   "metadata": {},
   "outputs": [],
   "source": [
    "# 평점 정보 저장\n",
    "user_visit_counts[['user_id', 'rating']].to_csv('C:/Users/seohe/OneDrive/바탕 화면/thesis/data100.csv', sep='\\t', index=False, header=False)"
   ]
  },
  {
   "cell_type": "code",
   "execution_count": null,
   "metadata": {},
   "outputs": [],
   "source": []
  }
 ],
 "metadata": {
  "kernelspec": {
   "display_name": "base",
   "language": "python",
   "name": "python3"
  },
  "language_info": {
   "codemirror_mode": {
    "name": "ipython",
    "version": 3
   },
   "file_extension": ".py",
   "mimetype": "text/x-python",
   "name": "python",
   "nbconvert_exporter": "python",
   "pygments_lexer": "ipython3",
   "version": "3.8.8"
  },
  "orig_nbformat": 4
 },
 "nbformat": 4,
 "nbformat_minor": 2
}
