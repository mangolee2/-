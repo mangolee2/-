{
 "cells": [
  {
   "cell_type": "code",
   "execution_count": 90,
   "metadata": {},
   "outputs": [],
   "source": [
    "import pandas as pd\n",
    "import numpy as np\n",
    "import os"
   ]
  },
  {
   "cell_type": "code",
   "execution_count": 87,
   "metadata": {},
   "outputs": [],
   "source": [
    "df = pd.read_csv(\"C:/Users/seohe/OneDrive/바탕 화면/Thesis/test2.csv\", encoding='cp949')"
   ]
  },
  {
   "cell_type": "code",
   "execution_count": 88,
   "metadata": {},
   "outputs": [],
   "source": [
    "dataset_cf=df.dropna(axis=0)"
   ]
  },
  {
   "cell_type": "code",
   "execution_count": 89,
   "metadata": {},
   "outputs": [
    {
     "data": {
      "text/html": [
       "<div>\n",
       "<style scoped>\n",
       "    .dataframe tbody tr th:only-of-type {\n",
       "        vertical-align: middle;\n",
       "    }\n",
       "\n",
       "    .dataframe tbody tr th {\n",
       "        vertical-align: top;\n",
       "    }\n",
       "\n",
       "    .dataframe thead th {\n",
       "        text-align: right;\n",
       "    }\n",
       "</style>\n",
       "<table border=\"1\" class=\"dataframe\">\n",
       "  <thead>\n",
       "    <tr style=\"text-align: right;\">\n",
       "      <th></th>\n",
       "      <th>癤풳ser ID</th>\n",
       "      <th>Venue ID</th>\n",
       "      <th>Venue category ID</th>\n",
       "      <th>Venue category name</th>\n",
       "      <th>Latitude</th>\n",
       "      <th>Longitude</th>\n",
       "      <th>Timezone offset in minutes</th>\n",
       "      <th>UTC time</th>\n",
       "    </tr>\n",
       "  </thead>\n",
       "  <tbody>\n",
       "    <tr>\n",
       "      <th>0</th>\n",
       "      <td>470</td>\n",
       "      <td>49bbd6c0f964a520f4531fe3</td>\n",
       "      <td>4bf58dd8d48988d127951735</td>\n",
       "      <td>Arts &amp; Crafts Store</td>\n",
       "      <td>40.719810</td>\n",
       "      <td>-74.002581</td>\n",
       "      <td>-240</td>\n",
       "      <td>Tue Apr 03 18:00:09 +0000 2012</td>\n",
       "    </tr>\n",
       "    <tr>\n",
       "      <th>1</th>\n",
       "      <td>979</td>\n",
       "      <td>4a43c0aef964a520c6a61fe3</td>\n",
       "      <td>4bf58dd8d48988d1df941735</td>\n",
       "      <td>Bridge</td>\n",
       "      <td>40.606800</td>\n",
       "      <td>-74.044170</td>\n",
       "      <td>-240</td>\n",
       "      <td>Tue Apr 03 18:00:25 +0000 2012</td>\n",
       "    </tr>\n",
       "    <tr>\n",
       "      <th>2</th>\n",
       "      <td>69</td>\n",
       "      <td>4c5cc7b485a1e21e00d35711</td>\n",
       "      <td>4bf58dd8d48988d103941735</td>\n",
       "      <td>Home (private)</td>\n",
       "      <td>40.716162</td>\n",
       "      <td>-73.883070</td>\n",
       "      <td>-240</td>\n",
       "      <td>Tue Apr 03 18:02:24 +0000 2012</td>\n",
       "    </tr>\n",
       "    <tr>\n",
       "      <th>3</th>\n",
       "      <td>395</td>\n",
       "      <td>4bc7086715a7ef3bef9878da</td>\n",
       "      <td>4bf58dd8d48988d104941735</td>\n",
       "      <td>Medical Center</td>\n",
       "      <td>40.745164</td>\n",
       "      <td>-73.982519</td>\n",
       "      <td>-240</td>\n",
       "      <td>Tue Apr 03 18:02:41 +0000 2012</td>\n",
       "    </tr>\n",
       "    <tr>\n",
       "      <th>4</th>\n",
       "      <td>87</td>\n",
       "      <td>4cf2c5321d18a143951b5cec</td>\n",
       "      <td>4bf58dd8d48988d1cb941735</td>\n",
       "      <td>Food Truck</td>\n",
       "      <td>40.740104</td>\n",
       "      <td>-73.989658</td>\n",
       "      <td>-240</td>\n",
       "      <td>Tue Apr 03 18:03:00 +0000 2012</td>\n",
       "    </tr>\n",
       "    <tr>\n",
       "      <th>...</th>\n",
       "      <td>...</td>\n",
       "      <td>...</td>\n",
       "      <td>...</td>\n",
       "      <td>...</td>\n",
       "      <td>...</td>\n",
       "      <td>...</td>\n",
       "      <td>...</td>\n",
       "      <td>...</td>\n",
       "    </tr>\n",
       "    <tr>\n",
       "      <th>65530</th>\n",
       "      <td>520</td>\n",
       "      <td>4b649083f964a5201dbe2ae3</td>\n",
       "      <td>4bf58dd8d48988d1e4931735</td>\n",
       "      <td>Bowling Alley</td>\n",
       "      <td>40.773181</td>\n",
       "      <td>-73.894966</td>\n",
       "      <td>-240</td>\n",
       "      <td>Sun May 13 22:27:23 +0000 2012</td>\n",
       "    </tr>\n",
       "    <tr>\n",
       "      <th>65531</th>\n",
       "      <td>210</td>\n",
       "      <td>4ed1b3bd8b81b473982a1b30</td>\n",
       "      <td>4bf58dd8d48988d121941735</td>\n",
       "      <td>Bar</td>\n",
       "      <td>40.973386</td>\n",
       "      <td>-74.071322</td>\n",
       "      <td>-240</td>\n",
       "      <td>Sun May 13 22:27:49 +0000 2012</td>\n",
       "    </tr>\n",
       "    <tr>\n",
       "      <th>65532</th>\n",
       "      <td>1054</td>\n",
       "      <td>4e5590b5814d6ce5cc849483</td>\n",
       "      <td>4d954b06a243a5684965b473</td>\n",
       "      <td>Residential Building (Apartment / Condo)</td>\n",
       "      <td>40.870630</td>\n",
       "      <td>-74.097926</td>\n",
       "      <td>-240</td>\n",
       "      <td>Sun May 13 22:28:37 +0000 2012</td>\n",
       "    </tr>\n",
       "    <tr>\n",
       "      <th>65533</th>\n",
       "      <td>645</td>\n",
       "      <td>4abe905bf964a5207e8e20e3</td>\n",
       "      <td>4bf58dd8d48988d1d2941735</td>\n",
       "      <td>Sushi Restaurant</td>\n",
       "      <td>40.737601</td>\n",
       "      <td>-74.032009</td>\n",
       "      <td>-240</td>\n",
       "      <td>Sun May 13 22:28:38 +0000 2012</td>\n",
       "    </tr>\n",
       "    <tr>\n",
       "      <th>65534</th>\n",
       "      <td>100</td>\n",
       "      <td>48970b66f964a52075511fe3</td>\n",
       "      <td>4bf58dd8d48988d135941735</td>\n",
       "      <td>Theater</td>\n",
       "      <td>40.762796</td>\n",
       "      <td>-73.987581</td>\n",
       "      <td>-240</td>\n",
       "      <td>Sun May 13 22:29:06 +0000 2012</td>\n",
       "    </tr>\n",
       "  </tbody>\n",
       "</table>\n",
       "<p>65119 rows × 8 columns</p>\n",
       "</div>"
      ],
      "text/plain": [
       "       癤풳ser ID                  Venue ID         Venue category ID  \\\n",
       "0           470  49bbd6c0f964a520f4531fe3  4bf58dd8d48988d127951735   \n",
       "1           979  4a43c0aef964a520c6a61fe3  4bf58dd8d48988d1df941735   \n",
       "2            69  4c5cc7b485a1e21e00d35711  4bf58dd8d48988d103941735   \n",
       "3           395  4bc7086715a7ef3bef9878da  4bf58dd8d48988d104941735   \n",
       "4            87  4cf2c5321d18a143951b5cec  4bf58dd8d48988d1cb941735   \n",
       "...         ...                       ...                       ...   \n",
       "65530       520  4b649083f964a5201dbe2ae3  4bf58dd8d48988d1e4931735   \n",
       "65531       210  4ed1b3bd8b81b473982a1b30  4bf58dd8d48988d121941735   \n",
       "65532      1054  4e5590b5814d6ce5cc849483  4d954b06a243a5684965b473   \n",
       "65533       645  4abe905bf964a5207e8e20e3  4bf58dd8d48988d1d2941735   \n",
       "65534       100  48970b66f964a52075511fe3  4bf58dd8d48988d135941735   \n",
       "\n",
       "                            Venue category name   Latitude  Longitude  \\\n",
       "0                           Arts & Crafts Store  40.719810 -74.002581   \n",
       "1                                        Bridge  40.606800 -74.044170   \n",
       "2                                Home (private)  40.716162 -73.883070   \n",
       "3                                Medical Center  40.745164 -73.982519   \n",
       "4                                    Food Truck  40.740104 -73.989658   \n",
       "...                                         ...        ...        ...   \n",
       "65530                             Bowling Alley  40.773181 -73.894966   \n",
       "65531                                       Bar  40.973386 -74.071322   \n",
       "65532  Residential Building (Apartment / Condo)  40.870630 -74.097926   \n",
       "65533                          Sushi Restaurant  40.737601 -74.032009   \n",
       "65534                                   Theater  40.762796 -73.987581   \n",
       "\n",
       "      Timezone offset in minutes                        UTC time  \n",
       "0                           -240  Tue Apr 03 18:00:09 +0000 2012  \n",
       "1                           -240  Tue Apr 03 18:00:25 +0000 2012  \n",
       "2                           -240  Tue Apr 03 18:02:24 +0000 2012  \n",
       "3                           -240  Tue Apr 03 18:02:41 +0000 2012  \n",
       "4                           -240  Tue Apr 03 18:03:00 +0000 2012  \n",
       "...                          ...                             ...  \n",
       "65530                       -240  Sun May 13 22:27:23 +0000 2012  \n",
       "65531                       -240  Sun May 13 22:27:49 +0000 2012  \n",
       "65532                       -240  Sun May 13 22:28:37 +0000 2012  \n",
       "65533                       -240  Sun May 13 22:28:38 +0000 2012  \n",
       "65534                       -240  Sun May 13 22:29:06 +0000 2012  \n",
       "\n",
       "[65119 rows x 8 columns]"
      ]
     },
     "execution_count": 89,
     "metadata": {},
     "output_type": "execute_result"
    }
   ],
   "source": [
    "dataset_cf"
   ]
  },
  {
   "cell_type": "code",
   "execution_count": 91,
   "metadata": {},
   "outputs": [],
   "source": [
    "# 파일 생성\n",
    "dataset_cf.to_csv('./dataset_cf.csv')"
   ]
  },
  {
   "attachments": {},
   "cell_type": "markdown",
   "metadata": {},
   "source": [
    "평점 부여"
   ]
  },
  {
   "cell_type": "code",
   "execution_count": 100,
   "metadata": {},
   "outputs": [],
   "source": [
    "import pandas as pd"
   ]
  },
  {
   "cell_type": "code",
   "execution_count": 101,
   "metadata": {},
   "outputs": [],
   "source": [
    "# 데이터셋 파일 경로\n",
    "file_path = 'C:/Users/seohe/OneDrive/바탕 화면/thesis/dataset_cf.csv'"
   ]
  },
  {
   "cell_type": "code",
   "execution_count": 102,
   "metadata": {},
   "outputs": [],
   "source": [
    "# 데이터셋 로드\n",
    "data = pd.read_csv(file_path)"
   ]
  },
  {
   "cell_type": "code",
   "execution_count": 103,
   "metadata": {},
   "outputs": [],
   "source": [
    "# 각 장소의 방문 횟수를 계산하여 인기도 기반 평점 부여\n",
    "venue_count = data['Venue ID'].value_counts()\n",
    "venue_count_dict = venue_count.to_dict()\n",
    "data['rating'] = data['Venue ID'].apply(lambda x: venue_count_dict[x])\n",
    "data.to_csv('C:/Users/seohe/OneDrive/바탕 화면/thesis/dataset_cf.csv', index=True)"
   ]
  },
  {
   "cell_type": "code",
   "execution_count": 104,
   "metadata": {},
   "outputs": [],
   "source": [
    "# Surprise 데이터셋으로 변환\n",
    "from surprise import Dataset\n",
    "from surprise import Reader"
   ]
  },
  {
   "cell_type": "code",
   "execution_count": 108,
   "metadata": {},
   "outputs": [],
   "source": [
    "reader = Reader(line_format='user item rating timestamp', sep=',', rating_scale=(1, 5))\n",
    "data = Dataset.load_from_df(data[['癤풳ser ID', 'Venue ID', 'rating']], reader=reader)"
   ]
  },
  {
   "attachments": {},
   "cell_type": "markdown",
   "metadata": {},
   "source": [
    "샘플링 -> 협업필터링 구현"
   ]
  },
  {
   "cell_type": "code",
   "execution_count": 119,
   "metadata": {},
   "outputs": [],
   "source": [
    "from surprise import SVD\n",
    "from surprise import Dataset\n",
    "from surprise import Reader\n",
    "from surprise.model_selection import train_test_split\n",
    "from surprise import accuracy\n",
    "import pandas as pd"
   ]
  },
  {
   "cell_type": "code",
   "execution_count": 121,
   "metadata": {},
   "outputs": [],
   "source": [
    "# 데이터 로드\n",
    "df = pd.read_csv('C:/Users/seohe/OneDrive/바탕 화면/thesis/dataset_cf.csv')"
   ]
  },
  {
   "cell_type": "code",
   "execution_count": 122,
   "metadata": {},
   "outputs": [],
   "source": [
    "# 데이터 형식 지정\n",
    "reader = Reader(rating_scale=(1, 5))"
   ]
  },
  {
   "cell_type": "code",
   "execution_count": 124,
   "metadata": {},
   "outputs": [],
   "source": [
    "# 데이터프레임을 데이터셋으로 변환\n",
    "data = Dataset.load_from_df(df[['User ID', 'Venue ID', 'rating']], reader)"
   ]
  },
  {
   "cell_type": "code",
   "execution_count": 125,
   "metadata": {},
   "outputs": [],
   "source": [
    "# 학습용 데이터와 테스트용 데이터로 분할\n",
    "trainset, testset = train_test_split(data, test_size=0.2, random_state=42)"
   ]
  },
  {
   "cell_type": "code",
   "execution_count": 126,
   "metadata": {},
   "outputs": [
    {
     "data": {
      "text/plain": [
       "<surprise.prediction_algorithms.matrix_factorization.SVD at 0x2277a418700>"
      ]
     },
     "execution_count": 126,
     "metadata": {},
     "output_type": "execute_result"
    }
   ],
   "source": [
    "# SVD 모델 학습\n",
    "model = SVD(n_factors=100, n_epochs=20, random_state=42)\n",
    "model.fit(trainset)"
   ]
  },
  {
   "cell_type": "code",
   "execution_count": 127,
   "metadata": {},
   "outputs": [
    {
     "name": "stdout",
     "output_type": "stream",
     "text": [
      "RMSE: 34.2947\n",
      "RMSE: 34.294662222495525\n"
     ]
    }
   ],
   "source": [
    "# 테스트 데이터로 모델 평가\n",
    "predictions = model.test(testset)\n",
    "print('RMSE:', accuracy.rmse(predictions))"
   ]
  },
  {
   "cell_type": "code",
   "execution_count": 138,
   "metadata": {},
   "outputs": [
    {
     "name": "stdout",
     "output_type": "stream",
     "text": [
      "RMSE: 0.9373\n"
     ]
    },
    {
     "data": {
      "text/plain": [
       "0.9373187455429636"
      ]
     },
     "execution_count": 138,
     "metadata": {},
     "output_type": "execute_result"
    }
   ],
   "source": [
    "from surprise.model_selection import train_test_split\n",
    "from surprise import Dataset\n",
    "\n",
    "# 데이터셋 불러오기\n",
    "data = Dataset.load_builtin('ml-100k')\n",
    "\n",
    "# 랜덤 샘플링을 통해 학습셋과 검증셋 나누기\n",
    "trainset, testset = train_test_split(data, test_size=0.2, random_state=42)\n",
    "\n",
    "# 모델 학습 및 예측\n",
    "algo = SVD()\n",
    "algo.fit(trainset)\n",
    "predictions = algo.test(testset)\n",
    "\n",
    "# 평가\n",
    "accuracy.rmse(predictions)"
   ]
  },
  {
   "attachments": {},
   "cell_type": "markdown",
   "metadata": {},
   "source": [
    "정밀도, 재현율, f"
   ]
  },
  {
   "cell_type": "code",
   "execution_count": 139,
   "metadata": {},
   "outputs": [
    {
     "name": "stdout",
     "output_type": "stream",
     "text": [
      "Precision:  0.46393780387010286\n",
      "Recall:  0.41915\n",
      "F1-score:  0.3802322028418893\n"
     ]
    }
   ],
   "source": [
    "from surprise import accuracy\n",
    "from sklearn.metrics import precision_recall_fscore_support\n",
    "\n",
    "# 학습 데이터로 모델 학습\n",
    "model.fit(trainset)\n",
    "\n",
    "# 테스트 데이터로 모델 평가\n",
    "predictions = model.test(testset)\n",
    "\n",
    "# 예측값과 실제값을 리스트로 저장\n",
    "pred = []\n",
    "true = []\n",
    "for uid, iid, r_ui, est, _ in predictions:\n",
    "    pred.append(est)\n",
    "    true.append(r_ui)\n",
    "\n",
    "# NaN 값 제거\n",
    "pred = np.nan_to_num(pred)\n",
    "\n",
    "# 정밀도, 재현율, F1-score 계산\n",
    "precision, recall, f1_score, _ = precision_recall_fscore_support(true, np.around(pred), average='weighted')\n",
    "print(\"Precision: \", precision)\n",
    "print(\"Recall: \", recall)\n",
    "print(\"F1-score: \", f1_score)"
   ]
  }
 ],
 "metadata": {
  "kernelspec": {
   "display_name": "base",
   "language": "python",
   "name": "python3"
  },
  "language_info": {
   "codemirror_mode": {
    "name": "ipython",
    "version": 3
   },
   "file_extension": ".py",
   "mimetype": "text/x-python",
   "name": "python",
   "nbconvert_exporter": "python",
   "pygments_lexer": "ipython3",
   "version": "3.8.8"
  },
  "orig_nbformat": 4
 },
 "nbformat": 4,
 "nbformat_minor": 2
}
