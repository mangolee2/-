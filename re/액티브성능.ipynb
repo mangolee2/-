{
 "cells": [
  {
   "cell_type": "code",
   "execution_count": 1,
   "metadata": {},
   "outputs": [],
   "source": [
    "import pandas as pd\n",
    "import numpy as np\n",
    "import os"
   ]
  },
  {
   "cell_type": "code",
   "execution_count": 8,
   "metadata": {},
   "outputs": [],
   "source": [
    "df = pd.read_csv(\"./active_users_total.csv\", encoding='cp949')"
   ]
  },
  {
   "attachments": {},
   "cell_type": "markdown",
   "metadata": {},
   "source": [
    "svd 협업필터링 구현"
   ]
  },
  {
   "cell_type": "code",
   "execution_count": 3,
   "metadata": {},
   "outputs": [],
   "source": [
    "from surprise import SVD\n",
    "from surprise import Dataset\n",
    "from surprise import Reader\n",
    "from surprise.model_selection import train_test_split\n",
    "from surprise import accuracy\n",
    "import pandas as pd"
   ]
  },
  {
   "attachments": {},
   "cell_type": "markdown",
   "metadata": {},
   "source": [
    "구현 전 평점부여(svd 적용하기 위해)"
   ]
  },
  {
   "cell_type": "code",
   "execution_count": 13,
   "metadata": {},
   "outputs": [],
   "source": [
    "# 각 장소의 방문 횟수를 계산하여 인기도 기반 평점 부여\n",
    "venue_count = df['Venue ID'].value_counts()\n",
    "venue_count_dict = venue_count.to_dict()\n",
    "df['Rating'] = df['Venue ID'].apply(lambda x: venue_count_dict[x])\n",
    "# data.to_csv('C:/Users/seohe/OneDrive/바탕 화면/thesis/active_users_total.csv', index=True)"
   ]
  },
  {
   "cell_type": "code",
   "execution_count": 32,
   "metadata": {},
   "outputs": [
    {
     "data": {
      "text/html": [
       "<div>\n",
       "<style scoped>\n",
       "    .dataframe tbody tr th:only-of-type {\n",
       "        vertical-align: middle;\n",
       "    }\n",
       "\n",
       "    .dataframe tbody tr th {\n",
       "        vertical-align: top;\n",
       "    }\n",
       "\n",
       "    .dataframe thead th {\n",
       "        text-align: right;\n",
       "    }\n",
       "</style>\n",
       "<table border=\"1\" class=\"dataframe\">\n",
       "  <thead>\n",
       "    <tr style=\"text-align: right;\">\n",
       "      <th></th>\n",
       "      <th>UserID</th>\n",
       "      <th>CheckIn</th>\n",
       "      <th>LocationFrequency</th>\n",
       "      <th>ActivityTime</th>\n",
       "      <th>Cluster</th>\n",
       "      <th>Venue ID</th>\n",
       "      <th>Venue category ID</th>\n",
       "      <th>Venue category name</th>\n",
       "      <th>Latitude</th>\n",
       "      <th>Longitude</th>\n",
       "      <th>Timezone offset in minutes</th>\n",
       "      <th>UTC time</th>\n",
       "      <th>rating</th>\n",
       "      <th>Rating</th>\n",
       "    </tr>\n",
       "  </thead>\n",
       "  <tbody>\n",
       "    <tr>\n",
       "      <th>0</th>\n",
       "      <td>12</td>\n",
       "      <td>309</td>\n",
       "      <td>99</td>\n",
       "      <td>21</td>\n",
       "      <td>1</td>\n",
       "      <td>4b53672bf964a520199b27e3</td>\n",
       "      <td>4bf58dd8d48988d118951735</td>\n",
       "      <td>Food &amp; Drink Shop</td>\n",
       "      <td>40.764016</td>\n",
       "      <td>-73.829476</td>\n",
       "      <td>-240</td>\n",
       "      <td>Tue Apr 03 21:58:10 +0000 2012</td>\n",
       "      <td>22</td>\n",
       "      <td>22</td>\n",
       "    </tr>\n",
       "    <tr>\n",
       "      <th>1</th>\n",
       "      <td>12</td>\n",
       "      <td>309</td>\n",
       "      <td>99</td>\n",
       "      <td>21</td>\n",
       "      <td>1</td>\n",
       "      <td>4cd95a235e1b721e58b23ed9</td>\n",
       "      <td>4bf58dd8d48988d143941735</td>\n",
       "      <td>Breakfast Spot</td>\n",
       "      <td>40.703532</td>\n",
       "      <td>-73.802305</td>\n",
       "      <td>-240</td>\n",
       "      <td>Wed Apr 04 11:24:54 +0000 2012</td>\n",
       "      <td>38</td>\n",
       "      <td>38</td>\n",
       "    </tr>\n",
       "    <tr>\n",
       "      <th>2</th>\n",
       "      <td>12</td>\n",
       "      <td>309</td>\n",
       "      <td>99</td>\n",
       "      <td>21</td>\n",
       "      <td>1</td>\n",
       "      <td>4a2c6356f964a52057971fe3</td>\n",
       "      <td>4bf58dd8d48988d1ff941735</td>\n",
       "      <td>Miscellaneous Shop</td>\n",
       "      <td>40.762168</td>\n",
       "      <td>-73.831571</td>\n",
       "      <td>-240</td>\n",
       "      <td>Wed Apr 04 22:46:01 +0000 2012</td>\n",
       "      <td>5</td>\n",
       "      <td>5</td>\n",
       "    </tr>\n",
       "    <tr>\n",
       "      <th>3</th>\n",
       "      <td>12</td>\n",
       "      <td>309</td>\n",
       "      <td>99</td>\n",
       "      <td>21</td>\n",
       "      <td>1</td>\n",
       "      <td>4b53672bf964a520199b27e3</td>\n",
       "      <td>4bf58dd8d48988d118951735</td>\n",
       "      <td>Food &amp; Drink Shop</td>\n",
       "      <td>40.763963</td>\n",
       "      <td>-73.829124</td>\n",
       "      <td>-240</td>\n",
       "      <td>Wed Apr 04 23:43:16 +0000 2012</td>\n",
       "      <td>22</td>\n",
       "      <td>22</td>\n",
       "    </tr>\n",
       "    <tr>\n",
       "      <th>4</th>\n",
       "      <td>12</td>\n",
       "      <td>309</td>\n",
       "      <td>99</td>\n",
       "      <td>21</td>\n",
       "      <td>1</td>\n",
       "      <td>4cd95a235e1b721e58b23ed9</td>\n",
       "      <td>4bf58dd8d48988d143941735</td>\n",
       "      <td>Breakfast Spot</td>\n",
       "      <td>40.703532</td>\n",
       "      <td>-73.802305</td>\n",
       "      <td>-240</td>\n",
       "      <td>Thu Apr 05 11:04:28 +0000 2012</td>\n",
       "      <td>38</td>\n",
       "      <td>38</td>\n",
       "    </tr>\n",
       "    <tr>\n",
       "      <th>5</th>\n",
       "      <td>12</td>\n",
       "      <td>309</td>\n",
       "      <td>99</td>\n",
       "      <td>21</td>\n",
       "      <td>1</td>\n",
       "      <td>4b5fbcf0f964a520b2ca29e3</td>\n",
       "      <td>4bf58dd8d48988d10f951735</td>\n",
       "      <td>Drugstore / Pharmacy</td>\n",
       "      <td>40.605899</td>\n",
       "      <td>-73.984538</td>\n",
       "      <td>-240</td>\n",
       "      <td>Fri Apr 06 15:16:32 +0000 2012</td>\n",
       "      <td>34</td>\n",
       "      <td>34</td>\n",
       "    </tr>\n",
       "    <tr>\n",
       "      <th>6</th>\n",
       "      <td>12</td>\n",
       "      <td>309</td>\n",
       "      <td>99</td>\n",
       "      <td>21</td>\n",
       "      <td>1</td>\n",
       "      <td>4adcda72f964a520504521e3</td>\n",
       "      <td>4bf58dd8d48988d142941735</td>\n",
       "      <td>Asian Restaurant</td>\n",
       "      <td>40.599584</td>\n",
       "      <td>-73.989795</td>\n",
       "      <td>-240</td>\n",
       "      <td>Sat Apr 07 20:46:38 +0000 2012</td>\n",
       "      <td>4</td>\n",
       "      <td>4</td>\n",
       "    </tr>\n",
       "    <tr>\n",
       "      <th>7</th>\n",
       "      <td>12</td>\n",
       "      <td>309</td>\n",
       "      <td>99</td>\n",
       "      <td>21</td>\n",
       "      <td>1</td>\n",
       "      <td>4cbf3eb47dc9a093adb937f5</td>\n",
       "      <td>4bf58dd8d48988d16a941735</td>\n",
       "      <td>Bakery</td>\n",
       "      <td>40.609041</td>\n",
       "      <td>-73.999740</td>\n",
       "      <td>-240</td>\n",
       "      <td>Sun Apr 08 15:40:16 +0000 2012</td>\n",
       "      <td>1</td>\n",
       "      <td>1</td>\n",
       "    </tr>\n",
       "    <tr>\n",
       "      <th>8</th>\n",
       "      <td>12</td>\n",
       "      <td>309</td>\n",
       "      <td>99</td>\n",
       "      <td>21</td>\n",
       "      <td>1</td>\n",
       "      <td>4bb7cf5b3db7b7135499209a</td>\n",
       "      <td>4bf58dd8d48988d142941735</td>\n",
       "      <td>Asian Restaurant</td>\n",
       "      <td>40.763334</td>\n",
       "      <td>-73.809310</td>\n",
       "      <td>-240</td>\n",
       "      <td>Sun Apr 08 17:53:57 +0000 2012</td>\n",
       "      <td>1</td>\n",
       "      <td>1</td>\n",
       "    </tr>\n",
       "    <tr>\n",
       "      <th>9</th>\n",
       "      <td>12</td>\n",
       "      <td>309</td>\n",
       "      <td>99</td>\n",
       "      <td>21</td>\n",
       "      <td>1</td>\n",
       "      <td>4b53672bf964a520199b27e3</td>\n",
       "      <td>4bf58dd8d48988d118951735</td>\n",
       "      <td>Food &amp; Drink Shop</td>\n",
       "      <td>40.764016</td>\n",
       "      <td>-73.829476</td>\n",
       "      <td>-240</td>\n",
       "      <td>Sun Apr 08 21:13:39 +0000 2012</td>\n",
       "      <td>22</td>\n",
       "      <td>22</td>\n",
       "    </tr>\n",
       "  </tbody>\n",
       "</table>\n",
       "</div>"
      ],
      "text/plain": [
       "   UserID  CheckIn  LocationFrequency  ActivityTime  Cluster  \\\n",
       "0      12      309                 99            21        1   \n",
       "1      12      309                 99            21        1   \n",
       "2      12      309                 99            21        1   \n",
       "3      12      309                 99            21        1   \n",
       "4      12      309                 99            21        1   \n",
       "5      12      309                 99            21        1   \n",
       "6      12      309                 99            21        1   \n",
       "7      12      309                 99            21        1   \n",
       "8      12      309                 99            21        1   \n",
       "9      12      309                 99            21        1   \n",
       "\n",
       "                   Venue ID         Venue category ID   Venue category name  \\\n",
       "0  4b53672bf964a520199b27e3  4bf58dd8d48988d118951735     Food & Drink Shop   \n",
       "1  4cd95a235e1b721e58b23ed9  4bf58dd8d48988d143941735        Breakfast Spot   \n",
       "2  4a2c6356f964a52057971fe3  4bf58dd8d48988d1ff941735    Miscellaneous Shop   \n",
       "3  4b53672bf964a520199b27e3  4bf58dd8d48988d118951735     Food & Drink Shop   \n",
       "4  4cd95a235e1b721e58b23ed9  4bf58dd8d48988d143941735        Breakfast Spot   \n",
       "5  4b5fbcf0f964a520b2ca29e3  4bf58dd8d48988d10f951735  Drugstore / Pharmacy   \n",
       "6  4adcda72f964a520504521e3  4bf58dd8d48988d142941735      Asian Restaurant   \n",
       "7  4cbf3eb47dc9a093adb937f5  4bf58dd8d48988d16a941735                Bakery   \n",
       "8  4bb7cf5b3db7b7135499209a  4bf58dd8d48988d142941735      Asian Restaurant   \n",
       "9  4b53672bf964a520199b27e3  4bf58dd8d48988d118951735     Food & Drink Shop   \n",
       "\n",
       "    Latitude  Longitude  Timezone offset in minutes  \\\n",
       "0  40.764016 -73.829476                        -240   \n",
       "1  40.703532 -73.802305                        -240   \n",
       "2  40.762168 -73.831571                        -240   \n",
       "3  40.763963 -73.829124                        -240   \n",
       "4  40.703532 -73.802305                        -240   \n",
       "5  40.605899 -73.984538                        -240   \n",
       "6  40.599584 -73.989795                        -240   \n",
       "7  40.609041 -73.999740                        -240   \n",
       "8  40.763334 -73.809310                        -240   \n",
       "9  40.764016 -73.829476                        -240   \n",
       "\n",
       "                         UTC time  rating  Rating  \n",
       "0  Tue Apr 03 21:58:10 +0000 2012      22      22  \n",
       "1  Wed Apr 04 11:24:54 +0000 2012      38      38  \n",
       "2  Wed Apr 04 22:46:01 +0000 2012       5       5  \n",
       "3  Wed Apr 04 23:43:16 +0000 2012      22      22  \n",
       "4  Thu Apr 05 11:04:28 +0000 2012      38      38  \n",
       "5  Fri Apr 06 15:16:32 +0000 2012      34      34  \n",
       "6  Sat Apr 07 20:46:38 +0000 2012       4       4  \n",
       "7  Sun Apr 08 15:40:16 +0000 2012       1       1  \n",
       "8  Sun Apr 08 17:53:57 +0000 2012       1       1  \n",
       "9  Sun Apr 08 21:13:39 +0000 2012      22      22  "
      ]
     },
     "execution_count": 32,
     "metadata": {},
     "output_type": "execute_result"
    }
   ],
   "source": [
    "df[:10]"
   ]
  },
  {
   "cell_type": "code",
   "execution_count": 11,
   "metadata": {},
   "outputs": [],
   "source": [
    "# Surprise 데이터셋으로 변환\n",
    "from surprise import Dataset\n",
    "from surprise import Reader"
   ]
  },
  {
   "cell_type": "code",
   "execution_count": 14,
   "metadata": {},
   "outputs": [],
   "source": [
    "reader = Reader(line_format='user item rating timestamp', sep=',', rating_scale=(1, 5))\n",
    "data = Dataset.load_from_df(df[['UserID', 'Venue ID', 'Rating']], reader=reader)"
   ]
  },
  {
   "attachments": {},
   "cell_type": "markdown",
   "metadata": {},
   "source": [
    "협업 구현"
   ]
  },
  {
   "cell_type": "code",
   "execution_count": 15,
   "metadata": {},
   "outputs": [],
   "source": [
    "# 데이터 형식 지정\n",
    "reader = Reader(rating_scale=(1, 5))"
   ]
  },
  {
   "cell_type": "code",
   "execution_count": 25,
   "metadata": {},
   "outputs": [],
   "source": [
    "# 데이터프레임을 데이터셋으로 변환\n",
    "data = Dataset.load_from_df(df[['UserID', 'Venue ID', 'Rating']], reader)"
   ]
  },
  {
   "cell_type": "code",
   "execution_count": 26,
   "metadata": {},
   "outputs": [],
   "source": [
    "# 학습용 데이터와 테스트용 데이터로 분할\n",
    "trainset, testset = train_test_split(data, test_size=0.2, random_state=42)"
   ]
  },
  {
   "cell_type": "code",
   "execution_count": 33,
   "metadata": {},
   "outputs": [
    {
     "data": {
      "text/plain": [
       "<surprise.prediction_algorithms.matrix_factorization.SVD at 0x2b8f3db6af0>"
      ]
     },
     "execution_count": 33,
     "metadata": {},
     "output_type": "execute_result"
    }
   ],
   "source": [
    "# SVD 모델 학습\n",
    "model = SVD(n_factors=100, n_epochs=20, random_state=42)\n",
    "model.fit(trainset)"
   ]
  },
  {
   "attachments": {},
   "cell_type": "markdown",
   "metadata": {},
   "source": []
  },
  {
   "cell_type": "code",
   "execution_count": 24,
   "metadata": {},
   "outputs": [
    {
     "name": "stdout",
     "output_type": "stream",
     "text": [
      "Precision:  0.13449290631160404\n",
      "Recall:  0.12433238107067444\n",
      "F1-score:  0.11155277327643778\n"
     ]
    },
    {
     "name": "stderr",
     "output_type": "stream",
     "text": [
      "c:\\ProgramData\\Anaconda3\\lib\\site-packages\\sklearn\\metrics\\_classification.py:1245: UndefinedMetricWarning: Precision and F-score are ill-defined and being set to 0.0 in labels with no predicted samples. Use `zero_division` parameter to control this behavior.\n",
      "  _warn_prf(average, modifier, msg_start, len(result))\n"
     ]
    }
   ],
   "source": [
    "from surprise import accuracy\n",
    "from sklearn.metrics import precision_recall_fscore_support\n",
    "\n",
    "# 학습 데이터로 모델 학습\n",
    "model.fit(trainset)\n",
    "\n",
    "# 테스트 데이터로 모델 평가\n",
    "predictions = model.test(testset)\n",
    "\n",
    "# 예측값과 실제값을 리스트로 저장\n",
    "pred = []\n",
    "true = []\n",
    "for uid, iid, r_ui, est, _ in predictions:\n",
    "    pred.append(est)\n",
    "    true.append(r_ui)\n",
    "\n",
    "# NaN 값 제거\n",
    "pred = np.nan_to_num(pred)\n",
    "\n",
    "# 정밀도, 재현율, F1-score 계산\n",
    "precision, recall, f1_score, _ = precision_recall_fscore_support(true, np.around(pred), average='weighted')\n",
    "print(\"Precision: \", precision)\n",
    "print(\"Recall: \", recall)\n",
    "print(\"F1-score: \", f1_score)"
   ]
  },
  {
   "cell_type": "code",
   "execution_count": null,
   "metadata": {},
   "outputs": [],
   "source": []
  }
 ],
 "metadata": {
  "kernelspec": {
   "display_name": "base",
   "language": "python",
   "name": "python3"
  },
  "language_info": {
   "codemirror_mode": {
    "name": "ipython",
    "version": 3
   },
   "file_extension": ".py",
   "mimetype": "text/x-python",
   "name": "python",
   "nbconvert_exporter": "python",
   "pygments_lexer": "ipython3",
   "version": "3.8.8"
  },
  "orig_nbformat": 4
 },
 "nbformat": 4,
 "nbformat_minor": 2
}
