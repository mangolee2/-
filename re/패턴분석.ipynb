{
 "cells": [
  {
   "cell_type": "code",
   "execution_count": 1,
   "metadata": {},
   "outputs": [],
   "source": [
    "import pandas as pd"
   ]
  },
  {
   "cell_type": "code",
   "execution_count": 2,
   "metadata": {},
   "outputs": [],
   "source": [
    "# 통합 파일 불러오기\n",
    "integrated_data = pd.read_csv('clustered_data.csv')"
   ]
  },
  {
   "cell_type": "code",
   "execution_count": 5,
   "metadata": {},
   "outputs": [],
   "source": [
    "# 원본 파일 불러오기\n",
    "original_data = pd.read_csv('dataset_80.csv')"
   ]
  },
  {
   "cell_type": "code",
   "execution_count": 6,
   "metadata": {},
   "outputs": [],
   "source": [
    "# 유저 아이디를 기준으로 두 파일 합치기\n",
    "merged_data = pd.merge(integrated_data, original_data, on='UserID')"
   ]
  },
  {
   "cell_type": "code",
   "execution_count": 7,
   "metadata": {},
   "outputs": [
    {
     "name": "stdout",
     "output_type": "stream",
     "text": [
      "        UserID  CheckIn  LocationFrequency  ActivityTime  Cluster  \\\n",
      "0            1      101                 46            15        0   \n",
      "1            1      101                 46            15        0   \n",
      "2            1      101                 46            15        0   \n",
      "3            1      101                 46            15        0   \n",
      "4            1      101                 46            15        0   \n",
      "...        ...      ...                ...           ...      ...   \n",
      "170241    1083      216                 32            13        0   \n",
      "170242    1083      216                 32            13        0   \n",
      "170243    1083      216                 32            13        0   \n",
      "170244    1083      216                 32            13        0   \n",
      "170245    1083      216                 32            13        0   \n",
      "\n",
      "                        Venue ID         Venue category ID  \\\n",
      "0       4abc1f51f964a520798620e3  4bf58dd8d48988d1ce941735   \n",
      "1       4d4ac10da0ef54814b6ffff6  4bf58dd8d48988d157941735   \n",
      "2       4db44994cda1c57c82583709  4bf58dd8d48988d1f1931735   \n",
      "3       4a541923f964a52008b31fe3  4bf58dd8d48988d14e941735   \n",
      "4       40f1d480f964a5205b0a1fe3  4bf58dd8d48988d143941735   \n",
      "...                          ...                       ...   \n",
      "170241  4d59274a3281b1f7deb0b72f  4bf58dd8d48988d148941735   \n",
      "170242  4c347eeb213c2d7fae85385d  4bf58dd8d48988d1fe931735   \n",
      "170243  4b7173ebf964a52068472de3  4bf58dd8d48988d146941735   \n",
      "170244  4c347eeb213c2d7fae85385d  4bf58dd8d48988d1fe931735   \n",
      "170245  42911d00f964a520f5231fe3  4bf58dd8d48988d129951735   \n",
      "\n",
      "          Venue category name   Latitude  Longitude  \\\n",
      "0          Seafood Restaurant  40.781558 -73.975792   \n",
      "1         American Restaurant  40.784018 -73.974524   \n",
      "2       General Entertainment  40.739398 -73.993210   \n",
      "3         American Restaurant  40.785677 -73.976498   \n",
      "4              Breakfast Spot  40.719929 -74.008532   \n",
      "...                       ...        ...        ...   \n",
      "170241             Donut Shop  40.744564 -73.996630   \n",
      "170242            Bus Station  40.734641 -73.979287   \n",
      "170243          Deli / Bodega  40.744461 -73.991672   \n",
      "170244            Bus Station  40.734641 -73.979287   \n",
      "170245          Train Station  40.750795 -73.993576   \n",
      "\n",
      "        Timezone offset in minutes                        UTC time  \n",
      "0                             -240  Wed Apr 04 23:31:31 +0000 2012  \n",
      "1                             -240  Sat Apr 07 17:42:24 +0000 2012  \n",
      "2                             -240  Sun Apr 08 18:20:29 +0000 2012  \n",
      "3                             -240  Sun Apr 08 20:02:10 +0000 2012  \n",
      "4                             -240  Mon Apr 09 16:20:52 +0000 2012  \n",
      "...                            ...                             ...  \n",
      "170241                        -300  Fri Nov 16 19:17:55 +0000 2012  \n",
      "170242                        -300  Tue Nov 20 14:50:31 +0000 2012  \n",
      "170243                        -300  Tue Nov 20 17:48:06 +0000 2012  \n",
      "170244                        -300  Wed Nov 21 13:18:55 +0000 2012  \n",
      "170245                        -300  Wed Nov 21 20:36:17 +0000 2012  \n",
      "\n",
      "[170246 rows x 12 columns]\n"
     ]
    }
   ],
   "source": [
    "# 결과 확인\n",
    "print(merged_data)"
   ]
  },
  {
   "cell_type": "code",
   "execution_count": 8,
   "metadata": {},
   "outputs": [],
   "source": [
    "# 합친 데이터를 파일로 저장\n",
    "merged_data.to_csv('integrated_data.csv', index=False)"
   ]
  },
  {
   "attachments": {},
   "cell_type": "markdown",
   "metadata": {},
   "source": [
    "클러스터1(액티브),  0(인액티브) 파일 저장"
   ]
  },
  {
   "cell_type": "code",
   "execution_count": 9,
   "metadata": {},
   "outputs": [],
   "source": [
    "# 합친 데이터 불러오기\n",
    "merged_data = pd.read_csv('integrated_data.csv')"
   ]
  },
  {
   "cell_type": "code",
   "execution_count": 10,
   "metadata": {},
   "outputs": [],
   "source": [
    "# 클러스터 1 (액티브) 파일 저장\n",
    "active_users = merged_data[merged_data['Cluster'] == 1]\n",
    "active_users.to_csv('active_users_total.csv', index=False)"
   ]
  },
  {
   "cell_type": "code",
   "execution_count": 11,
   "metadata": {},
   "outputs": [],
   "source": [
    "# 클러스터 0 (인액티브) 파일 저장\n",
    "inactive_users = merged_data[merged_data['Cluster'] == 0]\n",
    "inactive_users.to_csv('inactive_users_total.csv', index=False)"
   ]
  },
  {
   "attachments": {},
   "cell_type": "markdown",
   "metadata": {},
   "source": [
    "패턴분석"
   ]
  },
  {
   "cell_type": "code",
   "execution_count": 3,
   "metadata": {},
   "outputs": [],
   "source": [
    "import pandas as pd\n",
    "import matplotlib.pyplot as plt"
   ]
  },
  {
   "cell_type": "code",
   "execution_count": 21,
   "metadata": {},
   "outputs": [],
   "source": [
    "# 데이터 불러오기\n",
    "data = pd.read_csv('integrated_data.csv')"
   ]
  },
  {
   "attachments": {},
   "cell_type": "markdown",
   "metadata": {},
   "source": [
    "시간대별 우세 카테고리"
   ]
  },
  {
   "cell_type": "code",
   "execution_count": 22,
   "metadata": {},
   "outputs": [],
   "source": [
    "# 시간대별 category name 빈도수 계산\n",
    "time_category = data.groupby(['UTC time', 'Venue category name']).size().unstack()"
   ]
  },
  {
   "attachments": {},
   "cell_type": "markdown",
   "metadata": {},
   "source": [
    "1시간 간격으로 우세 카테고리"
   ]
  },
  {
   "cell_type": "code",
   "execution_count": 23,
   "metadata": {},
   "outputs": [],
   "source": [
    "# 1. datetime 열을 datetime 자료형으로 변환\n",
    "data['datetime'] = pd.to_datetime(data['UTC time'])"
   ]
  },
  {
   "cell_type": "code",
   "execution_count": 24,
   "metadata": {},
   "outputs": [],
   "source": [
    "# 2. 시간(hour) 정보 추출\n",
    "data['hour'] = data['datetime'].dt.hour"
   ]
  },
  {
   "cell_type": "code",
   "execution_count": 25,
   "metadata": {},
   "outputs": [],
   "source": [
    "# 3. 1시간 단위로 데이터 그룹화 후, 카테고리별 체크인 수 계산\n",
    "hourly_category_counts = data.groupby(['hour', 'Venue category name'])['Venue ID'].count()"
   ]
  },
  {
   "cell_type": "code",
   "execution_count": 26,
   "metadata": {},
   "outputs": [
    {
     "data": {
      "text/plain": [
       "hour  Venue category name  \n",
       "0     Afghan Restaurant          1\n",
       "      African Restaurant         2\n",
       "      Airport                  101\n",
       "      American Restaurant      272\n",
       "      Arcade                    26\n",
       "                              ... \n",
       "23    Video Store                1\n",
       "      Vietnamese Restaurant     17\n",
       "      Winery                     2\n",
       "      Wings Joint               16\n",
       "      Zoo                        1\n",
       "Name: Venue ID, Length: 4466, dtype: int64"
      ]
     },
     "execution_count": 26,
     "metadata": {},
     "output_type": "execute_result"
    }
   ],
   "source": [
    "hourly_category_counts"
   ]
  },
  {
   "cell_type": "code",
   "execution_count": 29,
   "metadata": {},
   "outputs": [],
   "source": [
    "# 각 시간대별로 가장 많이 등장한 카테고리 상위 3개 추출\n",
    "top5 = data.groupby(['hour', 'Venue category name'])['UserID'].count().reset_index()\n",
    "top5 = top5.sort_values(['hour', 'UserID'], ascending=[True, False])\n",
    "top5 = top5.groupby('hour').head(5)\n",
    "top5 = top5.pivot(index='hour', columns='Venue category name', values='UserID')\n",
    "top5 = top5.fillna(0)\n",
    "top5 = top5.astype(int)"
   ]
  },
  {
   "cell_type": "code",
   "execution_count": 31,
   "metadata": {},
   "outputs": [],
   "source": [
    "# 1시간 단위로 데이터 그룹화\n",
    "grouped_data = data.groupby([\"hour\", \"Venue category name\"]).size().reset_index(name=\"count\")"
   ]
  },
  {
   "cell_type": "code",
   "execution_count": 33,
   "metadata": {},
   "outputs": [],
   "source": [
    "# 시간대별로 가장 많이 나온 카테고리 3개 추출\n",
    "\n",
    "top_categories = []\n",
    "for hour in range(24):\n",
    "    # 해당 시간대의 데이터만 추출\n",
    "    hour_data = grouped_data[grouped_data[\"hour\"] == hour]\n",
    "    # 카테고리별로 count 기준 내림차순 정렬 후 상위 3개만 추출\n",
    "    top_categories_hour = hour_data.groupby(\"Venue category name\").sum().sort_values(\"count\", ascending=False).head(5)\n",
    "    top_categories.append(top_categories_hour.index.tolist())"
   ]
  },
  {
   "cell_type": "code",
   "execution_count": 34,
   "metadata": {},
   "outputs": [
    {
     "name": "stdout",
     "output_type": "stream",
     "text": [
      "Hour 0: Bar, Home (private), Subway, Gym / Fitness Center, Food & Drink Shop\n",
      "Hour 1: Bar, Home (private), Subway, American Restaurant, Residential Building (Apartment / Condo)\n",
      "Hour 2: Bar, Home (private), Subway, Residential Building (Apartment / Condo), American Restaurant\n",
      "Hour 3: Bar, Home (private), Subway, Residential Building (Apartment / Condo), Neighborhood\n",
      "Hour 4: Bar, Home (private), Subway, Residential Building (Apartment / Condo), Bus Station\n",
      "Hour 5: Bar, Home (private), Subway, Residential Building (Apartment / Condo), Other Great Outdoors\n",
      "Hour 6: Bar, Home (private), Hotel, Other Great Outdoors, Deli / Bodega\n",
      "Hour 7: Home (private), Bar, Residential Building (Apartment / Condo), Deli / Bodega, Subway\n",
      "Hour 8: Home (private), Subway, Bar, Road, Airport\n",
      "Hour 9: Home (private), Gym / Fitness Center, Subway, Airport, Deli / Bodega\n",
      "Hour 10: Gym / Fitness Center, Subway, Home (private), Bus Station, Coffee Shop\n",
      "Hour 11: Subway, Office, Home (private), Coffee Shop, Gym / Fitness Center\n",
      "Hour 12: Office, Subway, Coffee Shop, Train Station, Home (private)\n",
      "Hour 13: Office, Coffee Shop, Subway, Gym / Fitness Center, Train Station\n",
      "Hour 14: Office, Coffee Shop, Home (private), Gym / Fitness Center, Subway\n",
      "Hour 15: Office, Home (private), Gym / Fitness Center, Coffee Shop, Subway\n",
      "Hour 16: Office, Home (private), Gym / Fitness Center, Food & Drink Shop, Coffee Shop\n",
      "Hour 17: Office, Home (private), Food & Drink Shop, Coffee Shop, Subway\n",
      "Hour 18: Office, Food & Drink Shop, Home (private), Coffee Shop, Subway\n",
      "Hour 19: Home (private), Office, Food & Drink Shop, Coffee Shop, Subway\n",
      "Hour 20: Home (private), Food & Drink Shop, Bar, Subway, Park\n",
      "Hour 21: Home (private), Bar, Subway, Gym / Fitness Center, Food & Drink Shop\n",
      "Hour 22: Bar, Home (private), Gym / Fitness Center, Train Station, Food & Drink Shop\n",
      "Hour 23: Bar, Home (private), Gym / Fitness Center, Food & Drink Shop, Subway\n"
     ]
    }
   ],
   "source": [
    "# 결과 출력\n",
    "for hour, categories in enumerate(top_categories):\n",
    "    print(\"Hour {}: {}\".format(hour, \", \".join(categories)))"
   ]
  },
  {
   "attachments": {},
   "cell_type": "markdown",
   "metadata": {},
   "source": [
    "카테고리 결과 시각화"
   ]
  },
  {
   "cell_type": "code",
   "execution_count": 35,
   "metadata": {},
   "outputs": [],
   "source": [
    "import seaborn as sns\n",
    "import matplotlib.pyplot as plt"
   ]
  },
  {
   "cell_type": "code",
   "execution_count": 36,
   "metadata": {},
   "outputs": [],
   "source": [
    "# 시간대별, 카테고리별 방문 빈도수 계산\n",
    "freq = data.groupby(['hour', 'Venue category name'])['Venue category name'].count().reset_index(name='count')"
   ]
  },
  {
   "cell_type": "code",
   "execution_count": 37,
   "metadata": {},
   "outputs": [],
   "source": [
    "# 시간대별로 가장 많이 방문한 카테고리 상위 3개 추출\n",
    "top5 = freq.groupby('hour').apply(lambda x: x.nlargest(5, columns=['count'])).reset_index(drop=True)"
   ]
  },
  {
   "cell_type": "code",
   "execution_count": 39,
   "metadata": {},
   "outputs": [
    {
     "data": {
      "image/png": "[encoded data removed]",
      "text/plain": [
       "<Figure size 1080x576 with 1 Axes>"
      ]
     },
     "metadata": {
      "needs_background": "light"
     },
     "output_type": "display_data"
    }
   ],
   "source": [
    "# 그래프 그리기\n",
    "plt.figure(figsize=(15, 8))\n",
    "sns.barplot(x='hour', y='count', hue='Venue category name', data=top5)\n",
    "plt.title(\"Hourly Popular Categories\", fontsize=20)\n",
    "plt.xlabel(\"Hour\", fontsize=16)\n",
    "plt.ylabel(\"Visit Count\", fontsize=16)\n",
    "plt.xticks(fontsize=12)\n",
    "plt.yticks(fontsize=12)\n",
    "plt.legend(fontsize=12)\n",
    "plt.show()"
   ]
  },
  {
   "cell_type": "code",
   "execution_count": null,
   "metadata": {},
   "outputs": [],
   "source": []
  },
  {
   "attachments": {},
   "cell_type": "markdown",
   "metadata": {},
   "source": [
    "대중장소 삭제"
   ]
  },
  {
   "cell_type": "code",
   "execution_count": 48,
   "metadata": {},
   "outputs": [],
   "source": [
    "# 삭제할 항목 리스트 생성\n",
    "words_to_remove = ['Office', 'Home (private)','private' ,'Train Station', 'Bank', 'Subway', 'Hotel', 'Gym / Fitness Center', \n",
    "                        'Road', 'Medical Center', 'Building', 'Financial or Legal Service', 'Airport', 'Hardware Store', \n",
    "                        'Airport', 'Post Office', 'Gas Station / Garage', 'Drugstore / Pharmacy', 'Athletic & Sport', \n",
    "                        'Neighborhood', 'Electronics Store', 'Mobile Phone Shop', 'Automotive Shop', 'Parking', 'Clothing Store',\n",
    "                        'Bus Station']"
   ]
  },
  {
   "cell_type": "code",
   "execution_count": 49,
   "metadata": {},
   "outputs": [
    {
     "name": "stderr",
     "output_type": "stream",
     "text": [
      "c:\\ProgramData\\Anaconda3\\lib\\site-packages\\pandas\\core\\strings\\accessor.py:101: UserWarning: This pattern has match groups. To actually get the groups, use str.extract.\n",
      "  return func(self, *args, **kwargs)\n"
     ]
    }
   ],
   "source": [
    "# 특정 단어를 포함하는 카테고리 삭제\n",
    "for word in words_to_remove:\n",
    "    data = data[~data['Venue category name'].str.contains(word)]"
   ]
  },
  {
   "cell_type": "code",
   "execution_count": 50,
   "metadata": {},
   "outputs": [],
   "source": [
    "# 결과를 파일로 저장\n",
    "data.to_csv('filtered_data.csv', index=False)"
   ]
  },
  {
   "cell_type": "code",
   "execution_count": null,
   "metadata": {},
   "outputs": [],
   "source": []
  }
 ],
 "metadata": {
  "kernelspec": {
   "display_name": "base",
   "language": "python",
   "name": "python3"
  },
  "language_info": {
   "codemirror_mode": {
    "name": "ipython",
    "version": 3
   },
   "file_extension": ".py",
   "mimetype": "text/x-python",
   "name": "python",
   "nbconvert_exporter": "python",
   "pygments_lexer": "ipython3",
   "version": "3.8.8"
  },
  "orig_nbformat": 4
 },
 "nbformat": 4,
 "nbformat_minor": 2
}
