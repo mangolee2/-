{
 "cells": [
  {
   "cell_type": "code",
   "execution_count": 2,
   "metadata": {},
   "outputs": [],
   "source": [
    "from surprise import Dataset, Reader\n",
    "from surprise.model_selection import train_test_split\n",
    "from surprise import KNNBasic\n",
    "import pandas as pd"
   ]
  },
  {
   "cell_type": "code",
   "execution_count": 3,
   "metadata": {},
   "outputs": [],
   "source": [
    "data = pd.read_csv('./cf_rating_random.csv')"
   ]
  },
  {
   "cell_type": "code",
   "execution_count": 4,
   "metadata": {},
   "outputs": [],
   "source": [
    "reader = Reader(line_format='user item rating timestamp', sep=',', rating_scale=(1, 5))\n",
    "data = Dataset.load_from_df(data[['User ID', 'Venue ID', 'rating']], reader=reader)"
   ]
  },
  {
   "cell_type": "code",
   "execution_count": 5,
   "metadata": {},
   "outputs": [],
   "source": [
    "# 학습, 테스트 데이터셋 분리\n",
    "trainset, testset = train_test_split(data, test_size=0.2)"
   ]
  },
  {
   "cell_type": "code",
   "execution_count": 6,
   "metadata": {},
   "outputs": [
    {
     "name": "stdout",
     "output_type": "stream",
     "text": [
      "Computing the msd similarity matrix...\n",
      "Done computing similarity matrix.\n"
     ]
    },
    {
     "data": {
      "text/plain": [
       "<surprise.prediction_algorithms.knns.KNNBasic at 0x1cb17f89970>"
      ]
     },
     "execution_count": 6,
     "metadata": {},
     "output_type": "execute_result"
    }
   ],
   "source": [
    "# 모델 생성 및 학습\n",
    "model = KNNBasic(sim_options={'user_based': True})\n",
    "model.fit(trainset)"
   ]
  },
  {
   "cell_type": "code",
   "execution_count": 7,
   "metadata": {},
   "outputs": [],
   "source": [
    "# 추천 결과 확인\n",
    "# user_id = str(1)  # 추천 대상 유저 ID\n",
    "# user_items = [item for item, _ in trainset.ur[int(user_id)]]\n",
    "# recommendations = model.get_neighbors(int(user_id), k=3)\n",
    "# recommendations = [item for item, _ in recommendations if item not in user_items][:3]\n",
    "# print(recommendations)"
   ]
  },
  {
   "cell_type": "code",
   "execution_count": 9,
   "metadata": {},
   "outputs": [],
   "source": [
    "import numpy as np"
   ]
  },
  {
   "cell_type": "code",
   "execution_count": 10,
   "metadata": {},
   "outputs": [
    {
     "name": "stdout",
     "output_type": "stream",
     "text": [
      "Computing the msd similarity matrix...\n",
      "Done computing similarity matrix.\n",
      "Precision:  0.21043764948133148\n",
      "Recall:  0.20254914004914001\n",
      "F1-score:  0.14991494344643144\n"
     ]
    }
   ],
   "source": [
    "from surprise import accuracy\n",
    "from sklearn.metrics import precision_recall_fscore_support\n",
    "\n",
    "# 학습 데이터로 모델 학습\n",
    "model.fit(trainset)\n",
    "\n",
    "# 테스트 데이터로 모델 평가\n",
    "predictions = model.test(testset)\n",
    "\n",
    "# 예측값과 실제값을 리스트로 저장\n",
    "pred = []\n",
    "true = []\n",
    "for uid, iid, r_ui, est, _ in predictions:\n",
    "    pred.append(est)\n",
    "    true.append(r_ui)\n",
    "\n",
    "# NaN 값 제거\n",
    "pred = np.nan_to_num(pred)\n",
    "\n",
    "# 정밀도, 재현율, F1-score 계산\n",
    "precision, recall, f1_score, _ = precision_recall_fscore_support(true, np.around(pred), average='weighted')\n",
    "print(\"Precision: \", precision)\n",
    "print(\"Recall: \", recall)\n",
    "print(\"F1-score: \", f1_score)"
   ]
  },
  {
   "cell_type": "code",
   "execution_count": null,
   "metadata": {},
   "outputs": [],
   "source": []
  }
 ],
 "metadata": {
  "kernelspec": {
   "display_name": "base",
   "language": "python",
   "name": "python3"
  },
  "language_info": {
   "codemirror_mode": {
    "name": "ipython",
    "version": 3
   },
   "file_extension": ".py",
   "mimetype": "text/x-python",
   "name": "python",
   "nbconvert_exporter": "python",
   "pygments_lexer": "ipython3",
   "version": "3.8.8"
  },
  "orig_nbformat": 4
 },
 "nbformat": 4,
 "nbformat_minor": 2
}
