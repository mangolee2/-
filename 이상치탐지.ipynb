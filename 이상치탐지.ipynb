{
 "cells": [
  {
   "cell_type": "code",
   "execution_count": null,
   "metadata": {},
   "outputs": [],
   "source": []
  },
  {
   "attachments": {},
   "cell_type": "markdown",
   "metadata": {},
   "source": [
    "elliptic envelope 함수구현"
   ]
  },
  {
   "cell_type": "code",
   "execution_count": null,
   "metadata": {},
   "outputs": [],
   "source": [
    "import pandas as pd\n",
    "from sqlalchemy import create_engine\n",
    "from sklearn.covariance import EllipticEnvelope\n"
   ]
  },
  {
   "cell_type": "code",
   "execution_count": null,
   "metadata": {},
   "outputs": [],
   "source": [
    "def elliptic_envelope(data):\n",
    "    # Elliptic Envelope 모델 생성\n",
    "    clf = EllipticEnvelope(contamination=0.2)  # contamination은 이상치 비율을 나타냅니다.\n",
    "\n",
    "    # 모델 학습\n",
    "    clf.fit(data)\n",
    "\n",
    "    # 이상치 예측\n",
    "    y_pred = clf.predict(data)\n",
    "\n",
    "    # 이상치 결과 출력\n",
    "    for i, x in enumerate(data):\n",
    "        if y_pred[i] == -1:\n",
    "            print(f\"Data point {x} is an outlier.\")\n",
    "        else:\n",
    "            print(f\"Data point {x} is not an outlier.\")\n",
    "\n",
    "def DEF():\n",
    "    # 데이터 가져오기\n",
    "    print(\"Select data source:\")\n",
    "    print(\"1. Excel file\")\n",
    "    print(\"2. Database\")\n",
    "    choice = int(input(\"Enter your choice (1 or 2): \"))\n",
    "\n",
    "    if choice == 1:\n",
    "        # Excel 파일에서 데이터 읽어오기\n",
    "        file_path = input(\"Enter the file path: \")\n",
    "        df = pd.read_excel(file_path)\n",
    "        data = df.values.tolist()\n",
    "    elif choice == 2:\n",
    "        # 데이터베이스에 접속하여 데이터 읽어오기\n",
    "        db_connection_string = input(\"Enter the database connection string: \")\n",
    "        table_name = input(\"Enter the table name: \")\n",
    "        engine = create_engine(db_connection_string)\n",
    "        df = pd.read_sql_table(table_name, engine)\n",
    "        data = df.values.tolist()\n",
    "    else:\n",
    "        print(\"Invalid choice.\")\n",
    "        return\n",
    "\n",
    "    # Elliptic Envelope 적용\n",
    "    elliptic_envelope(data)\n",
    "\n",
    "# DEF 함수 호출\n",
    "DEF()"
   ]
  },
  {
   "attachments": {},
   "cell_type": "markdown",
   "metadata": {},
   "source": [
    "isolation forest 함수 구현"
   ]
  },
  {
   "cell_type": "code",
   "execution_count": null,
   "metadata": {},
   "outputs": [],
   "source": [
    "import pandas as pd\n",
    "from sqlalchemy import create_engine\n",
    "from sklearn.ensemble import IsolationForest\n"
   ]
  },
  {
   "cell_type": "code",
   "execution_count": null,
   "metadata": {},
   "outputs": [],
   "source": [
    "\n",
    "def isolation_forest(data):\n",
    "    # Isolation Forest 모델 생성\n",
    "    clf = IsolationForest(contamination=0.2)  # contamination은 이상치 비율을 나타냅니다.\n",
    "\n",
    "    # 모델 학습\n",
    "    clf.fit(data)\n",
    "\n",
    "    # 이상치 예측\n",
    "    y_pred = clf.predict(data)\n",
    "\n",
    "    # 이상치 결과 출력\n",
    "    for i, x in enumerate(data):\n",
    "        if y_pred[i] == -1:\n",
    "            print(f\"Data point {x} is an outlier.\")\n",
    "        else:\n",
    "            print(f\"Data point {x} is not an outlier.\")\n",
    "\n",
    "def DEF():\n",
    "    # 데이터 읽어오기\n",
    "    print(\"Select data source:\")\n",
    "    print(\"1. Excel file\")\n",
    "    print(\"2. Database\")\n",
    "    choice = int(input(\"Enter your choice (1 or 2): \"))\n",
    "\n",
    "    if choice == 1:\n",
    "        # Excel 파일에서 데이터 읽어오기\n",
    "        file_path = input(\"Enter the file path: \")\n",
    "        df = pd.read_excel(file_path)\n",
    "        data = df.values.tolist()\n",
    "    elif choice == 2:\n",
    "        # 데이터베이스에 접속하여 데이터 읽어오기\n",
    "        db_connection_string = input(\"Enter the database connection string: \")\n",
    "        table_name = input(\"Enter the table name: \")\n",
    "        engine = create_engine(db_connection_string)\n",
    "        df = pd.read_sql_table(table_name, engine)\n",
    "        data = df.values.tolist()\n",
    "    else:\n",
    "        print(\"Invalid choice.\")\n",
    "        return\n",
    "\n",
    "    # Isolation Forest 적용\n",
    "    isolation_forest(data)\n",
    "\n",
    "# DEF 함수 호출\n",
    "DEF()"
   ]
  }
 ],
 "metadata": {
  "language_info": {
   "name": "python"
  },
  "orig_nbformat": 4
 },
 "nbformat": 4,
 "nbformat_minor": 2
}
